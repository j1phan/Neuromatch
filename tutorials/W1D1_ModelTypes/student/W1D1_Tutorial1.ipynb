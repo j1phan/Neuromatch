{
  "cells": [
    {
      "cell_type": "markdown",
      "metadata": {
        "id": "view-in-github",
        "colab_type": "text"
      },
      "source": [
        "<a href=\"https://colab.research.google.com/github/j1phan/COGS108_Repo/blob/main/tutorials/W1D1_ModelTypes/student/W1D1_Tutorial1.ipynb\" target=\"_parent\"><img src=\"https://colab.research.google.com/assets/colab-badge.svg\" alt=\"Open In Colab\"/></a>"
      ]
    },
    {
      "cell_type": "markdown",
      "metadata": {
        "execution": {},
        "id": "7Bajvqe8xoq2"
      },
      "source": [
        "# Tutorial 1: \"What\" models\n",
        "**Week 1, Day 1: Model Types**\n",
        "\n",
        "**By Neuromatch Academy**\n",
        "\n",
        "__Content creators:__ Matt Laporte, Byron Galbraith, Konrad Kording\n",
        "\n",
        "__Content reviewers:__ Dalin Guo, Aishwarya Balwani, Madineh Sarvestani, Maryam Vaziri-Pashkam, Michael Waskom, Ella Batty\n",
        "\n",
        "__Post-production team:__ Gagana B, Spiros Chavlis\n",
        "\n",
        "We would like to acknowledge [Steinmetz _et al._ (2019)](https://www.nature.com/articles/s41586-019-1787-x) for sharing their data, a subset of which is used here.\n"
      ]
    },
    {
      "cell_type": "markdown",
      "metadata": {
        "execution": {},
        "id": "AtKmU88Wxoq5"
      },
      "source": [
        "<p align='center'><img src='https://github.com/NeuromatchAcademy/widgets/blob/master/sponsors.png?raw=True'/></p>"
      ]
    },
    {
      "cell_type": "markdown",
      "metadata": {
        "execution": {},
        "id": "oy21RFUkxoq6"
      },
      "source": [
        "___\n",
        "# Tutorial Objectives\n",
        "\n",
        "*Estimated timing of tutorial: 50 minutes*\n",
        "\n",
        "This is tutorial 1 of a 3-part series on different flavors of models used to understand neural data. In this tutorial we will explore 'What' models, used to describe the data. To understand what our data looks like, we will visualize it in different ways. Then we will compare it to simple mathematical models. Specifically, we will:\n",
        "\n",
        "- Load a dataset with spiking activity from hundreds of neurons and understand how it is organized\n",
        "- Make plots to visualize characteristics of the spiking activity across the population\n",
        "- Compute the distribution of \"inter-spike intervals\" (ISIs) for a single neuron\n",
        "- Consider several formal models of this distribution's shape and fit them to the data \"by hand\""
      ]
    },
    {
      "cell_type": "code",
      "execution_count": null,
      "metadata": {
        "cellView": "form",
        "execution": {},
        "id": "-_fG5F_Xxoq6"
      },
      "outputs": [],
      "source": [
        "# @title Tutorial slides\n",
        "\n",
        "# @markdown These are the slides for the videos in all tutorials today\n",
        "from IPython.display import IFrame\n",
        "IFrame(src=f\"https://mfr.ca-1.osf.io/render?url=https://osf.io/6dxwe/?direct%26mode=render%26action=download%26mode=render\", width=854, height=480)"
      ]
    },
    {
      "cell_type": "code",
      "execution_count": 1,
      "metadata": {
        "cellView": "form",
        "execution": {},
        "colab": {
          "base_uri": "https://localhost:8080/",
          "height": 581,
          "referenced_widgets": [
            "b642345ccf314fd0a779f8e83a853a3a",
            "c8cc6c561e6541a4b8adf9a2863c1d42",
            "4cababefde7d4cc79ffd2d8f7b4f443d",
            "35f1952130ee4beab62de1dc780d331b",
            "4c374f019aba4bd283e3a80198282caa",
            "3033d19a98b04299b88bdbb95cf382e3"
          ]
        },
        "id": "5EiQ2Ztgxoq7",
        "outputId": "739ec17d-9364-4bf0-e3c7-e06123995126"
      },
      "outputs": [
        {
          "output_type": "display_data",
          "data": {
            "text/plain": [
              "Tab(children=(Output(), Output()), _titles={'0': 'Youtube', '1': 'Bilibili'})"
            ],
            "application/vnd.jupyter.widget-view+json": {
              "version_major": 2,
              "version_minor": 0,
              "model_id": "b642345ccf314fd0a779f8e83a853a3a"
            }
          },
          "metadata": {}
        }
      ],
      "source": [
        "# @title Video 1: \"What\" Models\n",
        "from ipywidgets import widgets\n",
        "\n",
        "out2 = widgets.Output()\n",
        "with out2:\n",
        "  from IPython.display import IFrame\n",
        "  class BiliVideo(IFrame):\n",
        "      def __init__(self, id, page=1, width=400, height=300, **kwargs):\n",
        "          self.id=id\n",
        "          src = 'https://player.bilibili.com/player.html?bvid={0}&page={1}'.format(id, page)\n",
        "          super(BiliVideo, self).__init__(src, width, height, **kwargs)\n",
        "\n",
        "  video = BiliVideo(id=\"BV1mz4y1X7ot\", width=854, height=480, fs=1)\n",
        "  print('Video available at https://www.bilibili.com/video/{0}'.format(video.id))\n",
        "  display(video)\n",
        "\n",
        "out1 = widgets.Output()\n",
        "with out1:\n",
        "  from IPython.display import YouTubeVideo\n",
        "  video = YouTubeVideo(id=\"KgqR_jbjMQg\", width=854, height=480, fs=1, rel=0)\n",
        "  print('Video available at https://youtube.com/watch?v=' + video.id)\n",
        "  display(video)\n",
        "\n",
        "out = widgets.Tab([out1, out2])\n",
        "out.set_title(0, 'Youtube')\n",
        "out.set_title(1, 'Bilibili')\n",
        "\n",
        "display(out)"
      ]
    },
    {
      "cell_type": "markdown",
      "metadata": {
        "execution": {},
        "id": "JuS6YMxcxoq8"
      },
      "source": [
        "# Setup\n",
        "\n"
      ]
    },
    {
      "cell_type": "markdown",
      "metadata": {
        "execution": {},
        "id": "nhkP1kDVxoq8"
      },
      "source": [
        "Python requires you to explicitly \"import\" libraries before their functions are available to use. We will always specify our imports at the beginning of each notebook or script."
      ]
    },
    {
      "cell_type": "code",
      "execution_count": 2,
      "metadata": {
        "execution": {},
        "pycharm": {
          "name": "#%%\n"
        },
        "id": "n0qGqpAPxoq9"
      },
      "outputs": [],
      "source": [
        "import numpy as np\n",
        "import matplotlib.pyplot as plt"
      ]
    },
    {
      "cell_type": "markdown",
      "metadata": {
        "execution": {},
        "id": "SFZBGt8Pxoq9"
      },
      "source": [
        "Tutorial notebooks typically begin with several set-up steps that are hidden from view by default.\n",
        "\n",
        "**Important:** Even though the code is hidden, you still need to run it so that the rest of the notebook can work properly. Step through each cell, either by pressing the play button in the upper-left-hand corner or with a keyboard shortcut (`Cmd-Return` on a Mac, `Ctrl-Enter` otherwise). A number will appear inside the brackets (e.g. `[3]`) to tell you that the cell was executed and what order that happened in.\n",
        "\n",
        "If you are curious to see what is going on inside each cell, you can double click to expand. Once expanded, double-click the white space to the right of the editor to collapse again."
      ]
    },
    {
      "cell_type": "code",
      "execution_count": 3,
      "metadata": {
        "execution": {},
        "pycharm": {
          "name": "#%%\n"
        },
        "id": "RNU8qamNxoq9"
      },
      "outputs": [],
      "source": [
        "# @title Figure Settings\n",
        "import ipywidgets as widgets #interactive display\n",
        "\n",
        "%matplotlib inline\n",
        "%config InlineBackend.figure_format = 'retina'\n",
        "plt.style.use(\"https://raw.githubusercontent.com/NeuromatchAcademy/course-content/main/nma.mplstyle\")"
      ]
    },
    {
      "cell_type": "code",
      "execution_count": 4,
      "metadata": {
        "execution": {},
        "id": "KNGTTqH1xoq-"
      },
      "outputs": [],
      "source": [
        "# @title Plotting functions\n",
        "\n",
        "def plot_isis(single_neuron_isis):\n",
        "  plt.hist(single_neuron_isis, bins=50, histtype=\"stepfilled\")\n",
        "  plt.axvline(single_neuron_isis.mean(), color=\"orange\", label=\"Mean ISI\")\n",
        "  plt.xlabel(\"ISI duration (s)\")\n",
        "  plt.ylabel(\"Number of spikes\")\n",
        "  plt.legend()"
      ]
    },
    {
      "cell_type": "code",
      "execution_count": 5,
      "metadata": {
        "execution": {},
        "pycharm": {
          "name": "#%%\n"
        },
        "id": "02YdgMpPxoq-"
      },
      "outputs": [],
      "source": [
        "#@title Data retrieval\n",
        "#@markdown This cell downloads the example dataset that we will use in this tutorial.\n",
        "import io\n",
        "import requests\n",
        "r = requests.get('https://osf.io/sy5xt/download')\n",
        "if r.status_code != 200:\n",
        "  print('Failed to download data')\n",
        "else:\n",
        "  spike_times = np.load(io.BytesIO(r.content), allow_pickle=True)['spike_times']"
      ]
    },
    {
      "cell_type": "markdown",
      "metadata": {
        "execution": {},
        "id": "VQMSj80vxoq-"
      },
      "source": [
        "---\n",
        "\n",
        "# Section 1: Exploring the Steinmetz dataset\n",
        "\n",
        "In this tutorial we will explore the structure of a neuroscience dataset.\n",
        "\n",
        "We consider a subset of data from a study of [Steinmetz _et al._ (2019)](https://www.nature.com/articles/s41586-019-1787-x). In this study, Neuropixels probes were implanted in the brains of mice. Electrical potentials were measured by hundreds of electrodes along the length of each probe. Each electrode's measurements captured local variations in the electric field due to nearby spiking neurons. A spike sorting algorithm was used to infer spike times and cluster spikes according to common origin: a single cluster of sorted spikes is causally attributed to a single neuron.\n",
        "\n",
        "In particular, a single recording session of spike times and neuron assignments was loaded and assigned to `spike_times` in the preceding setup.\n",
        "\n",
        "Typically a dataset comes with some information about its structure. However, this information may be incomplete. You might also apply some transformations or \"pre-processing\" to create a working representation of the data of interest, which might go partly undocumented depending on the circumstances. In any case it is important to be able to use the available tools to investigate unfamiliar aspects of a data structure.\n",
        "\n",
        "Let's see what our data looks like..."
      ]
    },
    {
      "cell_type": "markdown",
      "metadata": {
        "execution": {},
        "id": "EdZ2wQskxoq_"
      },
      "source": [
        "## Section 1.1: Warming up with `spike_times`"
      ]
    },
    {
      "cell_type": "markdown",
      "metadata": {
        "execution": {},
        "id": "IHWxkj3Mxoq_"
      },
      "source": [
        "What is the Python type of our variable?"
      ]
    },
    {
      "cell_type": "code",
      "execution_count": 6,
      "metadata": {
        "execution": {},
        "pycharm": {
          "name": "#%%\n"
        },
        "colab": {
          "base_uri": "https://localhost:8080/"
        },
        "id": "FKvPNCVfxoq_",
        "outputId": "38d15035-5640-49b9-e94f-29ee41e94aba"
      },
      "outputs": [
        {
          "output_type": "execute_result",
          "data": {
            "text/plain": [
              "numpy.ndarray"
            ]
          },
          "metadata": {},
          "execution_count": 6
        }
      ],
      "source": [
        "type(spike_times)"
      ]
    },
    {
      "cell_type": "markdown",
      "metadata": {
        "execution": {},
        "id": "iPuIu3-kxoq_"
      },
      "source": [
        "You should see `numpy.ndarray`, which means that it's a normal NumPy array.\n",
        "\n",
        "If you see an error message, it probably means that you did not execute the set-up cells at the top of the notebook. So go ahead and make sure to do that.\n",
        "\n",
        "Once everything is running properly, we can ask the next question about the dataset: what's its shape?"
      ]
    },
    {
      "cell_type": "code",
      "execution_count": 7,
      "metadata": {
        "execution": {},
        "pycharm": {
          "name": "#%%\n"
        },
        "colab": {
          "base_uri": "https://localhost:8080/"
        },
        "id": "lLiE0uIWxorA",
        "outputId": "520cc844-2a1a-40d0-cca1-aa2cb70a7de7"
      },
      "outputs": [
        {
          "output_type": "execute_result",
          "data": {
            "text/plain": [
              "(734,)"
            ]
          },
          "metadata": {},
          "execution_count": 7
        }
      ],
      "source": [
        "spike_times.shape"
      ]
    },
    {
      "cell_type": "markdown",
      "metadata": {
        "execution": {},
        "id": "LxIsBCG3xorA"
      },
      "source": [
        "There are 734 entries in one dimension, and no other dimensions. What is the Python type of the first entry, and what is *its* shape?"
      ]
    },
    {
      "cell_type": "code",
      "execution_count": 8,
      "metadata": {
        "execution": {},
        "pycharm": {
          "name": "#%%\n"
        },
        "colab": {
          "base_uri": "https://localhost:8080/"
        },
        "id": "76llKro9xorA",
        "outputId": "572bf295-ea81-4a8c-cca7-3b38b3c5be0d"
      },
      "outputs": [
        {
          "output_type": "stream",
          "name": "stdout",
          "text": [
            "<class 'numpy.ndarray'>\n",
            "(826,)\n"
          ]
        }
      ],
      "source": [
        "idx = 0\n",
        "print(\n",
        "  type(spike_times[idx]),\n",
        "  spike_times[idx].shape,\n",
        "  sep=\"\\n\",\n",
        ")"
      ]
    },
    {
      "cell_type": "markdown",
      "metadata": {
        "execution": {},
        "id": "YKMRUTuZxorA"
      },
      "source": [
        "It's also a NumPy array with a 1D shape! Why didn't this show up as a second dimension in the shape of `spike_times`? That is, why not `spike_times.shape == (734, 826)`?\n",
        "\n",
        "To investigate, let's check another entry."
      ]
    },
    {
      "cell_type": "code",
      "execution_count": 9,
      "metadata": {
        "execution": {},
        "pycharm": {
          "name": "#%%\n"
        },
        "colab": {
          "base_uri": "https://localhost:8080/"
        },
        "id": "o3PffCUWxorA",
        "outputId": "534d556c-b4e2-4a14-b1a9-6982dcae2b23"
      },
      "outputs": [
        {
          "output_type": "stream",
          "name": "stdout",
          "text": [
            "<class 'numpy.ndarray'>\n",
            "(9723,)\n"
          ]
        }
      ],
      "source": [
        "idx = 321\n",
        "print(\n",
        "  type(spike_times[idx]),\n",
        "  spike_times[idx].shape,\n",
        "  sep=\"\\n\",\n",
        ")"
      ]
    },
    {
      "cell_type": "markdown",
      "metadata": {
        "execution": {},
        "id": "1w1Zlnw6xorB"
      },
      "source": [
        "It's also a 1D NumPy array, but it has a different shape. Checking the NumPy types of the values in these arrays, and their first few elements, we see they are composed of floating point numbers (not another level of `np.ndarray`):"
      ]
    },
    {
      "cell_type": "code",
      "execution_count": 10,
      "metadata": {
        "execution": {},
        "pycharm": {
          "name": "#%%\n"
        },
        "colab": {
          "base_uri": "https://localhost:8080/"
        },
        "id": "-fQCw15JxorB",
        "outputId": "6947cad6-477b-409e-bfc7-40468023f4bb"
      },
      "outputs": [
        {
          "output_type": "stream",
          "name": "stdout",
          "text": [
            "Neuron 0:\n",
            "float32\n",
            "[ 0.8149   14.822467 24.9646   25.1436   38.8709  ]\n",
            "\n",
            "\n",
            "Neuron 321:\n",
            "float32\n",
            "[1.0698667 1.1536334 1.2403667 1.7072    1.799    ]\n",
            "\n",
            "\n"
          ]
        }
      ],
      "source": [
        "i_neurons = [0, 321]\n",
        "i_print = slice(0, 5)\n",
        "\n",
        "for i in i_neurons:\n",
        "  print(\n",
        "    \"Neuron {}:\".format(i),\n",
        "    spike_times[i].dtype,\n",
        "    spike_times[i][i_print],\n",
        "    \"\\n\",\n",
        "    sep=\"\\n\"\n",
        "  )"
      ]
    },
    {
      "cell_type": "markdown",
      "metadata": {
        "execution": {},
        "id": "0SDJrb3CxorC"
      },
      "source": [
        "Note that this time we've checked the NumPy `dtype` rather than the Python variable type. These two arrays contain floating point numbers (\"floats\") with 32 bits of precision.\n",
        "\n",
        "The basic picture is coming together:\n",
        "- `spike_times` is 1D, its entries are NumPy arrays, and its length is the number of neurons (734): by indexing it, we select a subset of neurons.\n",
        "- An array in `spike_times` is also 1D and corresponds to a single neuron; its entries are floating point numbers, and its length is the number of spikes attributed to that neuron. By indexing it, we select a subset of spike times for that neuron.\n",
        "\n",
        "Visually, you can think of the data structure as looking something like this:\n",
        "\n",
        "```\n",
        "| . . . . . |\n",
        "| . . . . . . . . |\n",
        "| . . . |\n",
        "| . . . . . . . |\n",
        "```\n",
        "\n",
        "Before moving on, we'll calculate and store the number of neurons in the dataset and the number of spikes per neuron:"
      ]
    },
    {
      "cell_type": "code",
      "execution_count": 11,
      "metadata": {
        "execution": {},
        "pycharm": {
          "name": "#%%\n"
        },
        "colab": {
          "base_uri": "https://localhost:8080/"
        },
        "id": "KvdM9DAQxorC",
        "outputId": "15fd0d6f-80bb-4a42-b99c-48f63d2e3b89"
      },
      "outputs": [
        {
          "output_type": "stream",
          "name": "stdout",
          "text": [
            "Number of neurons: 734\n",
            "Number of spikes for first five neurons: [826, 2818, 3953, 646, 1115]\n"
          ]
        }
      ],
      "source": [
        "n_neurons = len(spike_times)\n",
        "total_spikes_per_neuron = [len(spike_times_i) for spike_times_i in spike_times]\n",
        "\n",
        "print(f\"Number of neurons: {n_neurons}\")\n",
        "print(f\"Number of spikes for first five neurons: {total_spikes_per_neuron[:5]}\")"
      ]
    },
    {
      "cell_type": "code",
      "execution_count": 12,
      "metadata": {
        "cellView": "form",
        "execution": {},
        "colab": {
          "base_uri": "https://localhost:8080/",
          "height": 581,
          "referenced_widgets": [
            "7824c850467a4553beca8fb1d287f85d",
            "2a26007b08da4f079f0c878b7346d998",
            "4076f41ab1144a7f9c73f8557229e035",
            "dd3cde412854461dbf1a433523074511",
            "673e8276b39c407d866b90d82ab93930",
            "8fa397ea94964547a696d3f261f3946a"
          ]
        },
        "id": "-7lwE2GjxorC",
        "outputId": "c356a2fd-f6d4-49d3-d446-25df1bb35e82"
      },
      "outputs": [
        {
          "output_type": "display_data",
          "data": {
            "text/plain": [
              "Tab(children=(Output(), Output()), _titles={'0': 'Youtube', '1': 'Bilibili'})"
            ],
            "application/vnd.jupyter.widget-view+json": {
              "version_major": 2,
              "version_minor": 0,
              "model_id": "7824c850467a4553beca8fb1d287f85d"
            }
          },
          "metadata": {}
        }
      ],
      "source": [
        "# @title Video 2: Exploring the dataset\n",
        "from ipywidgets import widgets\n",
        "\n",
        "out2 = widgets.Output()\n",
        "with out2:\n",
        "  from IPython.display import IFrame\n",
        "  class BiliVideo(IFrame):\n",
        "      def __init__(self, id, page=1, width=400, height=300, **kwargs):\n",
        "          self.id=id\n",
        "          src = 'https://player.bilibili.com/player.html?bvid={0}&page={1}'.format(id, page)\n",
        "          super(BiliVideo, self).__init__(src, width, height, **kwargs)\n",
        "\n",
        "  video = BiliVideo(id=\"BV1Hp4y1S7Au\", width=854, height=480, fs=1)\n",
        "  print('Video available at https://www.bilibili.com/video/{0}'.format(video.id))\n",
        "  display(video)\n",
        "\n",
        "out1 = widgets.Output()\n",
        "with out1:\n",
        "  from IPython.display import YouTubeVideo\n",
        "  video = YouTubeVideo(id=\"oHwYWUI_o1U\", width=854, height=480, fs=1, rel=0)\n",
        "  print('Video available at https://youtube.com/watch?v=' + video.id)\n",
        "  display(video)\n",
        "\n",
        "out = widgets.Tab([out1, out2])\n",
        "out.set_title(0, 'Youtube')\n",
        "out.set_title(1, 'Bilibili')\n",
        "\n",
        "display(out)"
      ]
    },
    {
      "cell_type": "markdown",
      "metadata": {
        "execution": {},
        "id": "NqrO1FFWxorC"
      },
      "source": [
        "## Section 1.2: Getting warmer: counting and plotting total spike counts\n",
        "\n",
        "As we've seen, the number of spikes over the entire recording is variable between neurons. More generally, some neurons tend to spike more than others in a given period. Let's explore what the distribution of spiking looks like across all the neurons in the dataset."
      ]
    },
    {
      "cell_type": "markdown",
      "metadata": {
        "execution": {},
        "id": "cqPnLAlNxorC"
      },
      "source": [
        "Are most neurons \"loud\" or \"quiet\", compared to the average? To see, we'll define bins of constant width in terms of total spikes and count the neurons that fall in each bin. This is known as a \"histogram\".\n",
        "\n",
        "You can plot a histogram with the matplotlib function `plt.hist`. If you just need to compute it, you can use the numpy function `np.histogram` instead."
      ]
    },
    {
      "cell_type": "code",
      "execution_count": 13,
      "metadata": {
        "execution": {},
        "pycharm": {
          "name": "#%%\n"
        },
        "colab": {
          "base_uri": "https://localhost:8080/",
          "height": 431
        },
        "id": "OitOl8lYxorC",
        "outputId": "05336a32-3d9d-47af-d698-8001232e8690"
      },
      "outputs": [
        {
          "output_type": "display_data",
          "data": {
            "text/plain": [
              "<Figure size 576x432 with 1 Axes>"
            ],
            "image/png": "[encoded data removed]"
          },
          "metadata": {
            "image/png": {
              "width": 558,
              "height": 414
            },
            "needs_background": "light"
          }
        }
      ],
      "source": [
        "plt.hist(total_spikes_per_neuron, bins=50, histtype=\"stepfilled\")\n",
        "plt.xlabel(\"Total spikes per neuron\")\n",
        "plt.ylabel(\"Number of neurons\");"
      ]
    },
    {
      "cell_type": "markdown",
      "metadata": {
        "execution": {},
        "id": "MSNtdLpCxorD"
      },
      "source": [
        "Let's see what percentage of neurons have a below-average spike count:"
      ]
    },
    {
      "cell_type": "code",
      "execution_count": 14,
      "metadata": {
        "execution": {},
        "pycharm": {
          "name": "#%%\n"
        },
        "colab": {
          "base_uri": "https://localhost:8080/"
        },
        "id": "kGMV47A8xorD",
        "outputId": "c88fbbb0-d24d-418c-8633-ad487b726f38"
      },
      "outputs": [
        {
          "output_type": "stream",
          "name": "stdout",
          "text": [
            "68.0% of neurons are below the mean\n"
          ]
        }
      ],
      "source": [
        "mean_spike_count = np.mean(total_spikes_per_neuron)\n",
        "frac_below_mean = (total_spikes_per_neuron < mean_spike_count).mean()\n",
        "print(f\"{frac_below_mean:2.1%} of neurons are below the mean\")"
      ]
    },
    {
      "cell_type": "markdown",
      "metadata": {
        "execution": {},
        "id": "R-tHzLuvxorD"
      },
      "source": [
        "We can also see this by adding the average spike count to the histogram plot:"
      ]
    },
    {
      "cell_type": "code",
      "execution_count": 15,
      "metadata": {
        "execution": {},
        "pycharm": {
          "name": "#%%\n"
        },
        "colab": {
          "base_uri": "https://localhost:8080/",
          "height": 431
        },
        "id": "fOVlr7suxorD",
        "outputId": "84fd995a-1f8c-46d8-b222-4dd24494fd1c"
      },
      "outputs": [
        {
          "output_type": "display_data",
          "data": {
            "text/plain": [
              "<Figure size 576x432 with 1 Axes>"
            ],
            "image/png": "[encoded data removed]"
          },
          "metadata": {
            "image/png": {
              "width": 558,
              "height": 414
            },
            "needs_background": "light"
          }
        }
      ],
      "source": [
        "plt.hist(total_spikes_per_neuron, bins=50, histtype=\"stepfilled\")\n",
        "plt.xlabel(\"Total spikes per neuron\")\n",
        "plt.ylabel(\"Number of neurons\")\n",
        "plt.axvline(mean_spike_count, color=\"orange\", label=\"Mean neuron\")\n",
        "plt.legend();"
      ]
    },
    {
      "cell_type": "markdown",
      "metadata": {
        "execution": {},
        "id": "_N6GTVaxxorD"
      },
      "source": [
        "This shows that the majority of neurons are relatively \"quiet\" compared to the mean, while a small number of neurons are exceptionally \"loud\": they must have spiked more often to reach a large count.\n",
        "\n",
        "### Coding Exercise 1.2: Comparing mean and median neurons\n",
        "\n",
        "If the mean neuron is more active than 68% of the population, what does that imply about the relationship between the mean neuron and the median neuron?\n",
        "\n",
        "*Exercise objective:* Reproduce the plot above, but add the median neuron.\n"
      ]
    },
    {
      "cell_type": "code",
      "execution_count": 16,
      "metadata": {
        "execution": {},
        "pycharm": {
          "name": "#%%\n"
        },
        "colab": {
          "base_uri": "https://localhost:8080/",
          "height": 448
        },
        "id": "VqWv8zJ0xorD",
        "outputId": "2a844c29-f437-4d53-ea36-2b0d82c01ae2"
      },
      "outputs": [
        {
          "output_type": "execute_result",
          "data": {
            "text/plain": [
              "<matplotlib.legend.Legend at 0x7f3a646bc520>"
            ]
          },
          "metadata": {},
          "execution_count": 16
        },
        {
          "output_type": "display_data",
          "data": {
            "text/plain": [
              "<Figure size 576x432 with 1 Axes>"
            ],
            "image/png": "[encoded data removed]"
          },
          "metadata": {
            "image/png": {
              "width": 558,
              "height": 414
            },
            "needs_background": "light"
          }
        }
      ],
      "source": [
        "#################################################################################\n",
        "## TODO for students:\n",
        "# Fill out function and remove\n",
        "#raise NotImplementedError(\"Student exercise: complete histogram plotting with median\")\n",
        "#################################################################################\n",
        "\n",
        "# Compute median spike count\n",
        "median_spike_count = np.median(total_spikes_per_neuron)  # Hint: Try the function np.median\n",
        "\n",
        "# Visualize median, mean, and histogram\n",
        "plt.hist(total_spikes_per_neuron, bins=50, histtype=\"stepfilled\")\n",
        "plt.axvline(median_spike_count, color=\"limegreen\", label=\"Median neuron\")\n",
        "plt.axvline(mean_spike_count, color=\"orange\", label=\"Mean neuron\")\n",
        "plt.xlabel(\"Total spikes per neuron\")\n",
        "plt.ylabel(\"Number of neurons\")\n",
        "plt.legend()"
      ]
    },
    {
      "cell_type": "markdown",
      "metadata": {
        "execution": {},
        "pycharm": {
          "name": "#%%\n"
        },
        "id": "V1XsN5UdxorD"
      },
      "source": [
        "[*Click for solution*](https://github.com/NeuromatchAcademy/course-content/tree/main//tutorials/W1D1_ModelTypes/solutions/W1D1_Tutorial1_Solution_9af91fe0.py)\n",
        "\n",
        "*Example output:*\n",
        "\n",
        "<img alt='Solution hint' align='left' width=1116.0 height=827.0 src=https://raw.githubusercontent.com/NeuromatchAcademy/course-content/main/tutorials/W1D1_ModelTypes/static/W1D1_Tutorial1_Solution_9af91fe0_0.png>\n",
        "\n"
      ]
    },
    {
      "cell_type": "markdown",
      "metadata": {
        "execution": {},
        "id": "APzx_zO5xorD"
      },
      "source": [
        "\n",
        "*Bonus:* The median is the 50th percentile. What about other percentiles? Can you show the interquartile range on the histogram?"
      ]
    },
    {
      "cell_type": "markdown",
      "metadata": {
        "execution": {},
        "id": "YgbvoOsexorE"
      },
      "source": [
        "---\n",
        "\n",
        "# Section 2: Visualizing neuronal spiking activity\n",
        "\n",
        "*Estimated timing to here from start of tutorial: 15 min*"
      ]
    },
    {
      "cell_type": "markdown",
      "metadata": {
        "execution": {},
        "id": "vW2Whjv1xorE"
      },
      "source": [
        "## Section 2.1: Getting a subset of the data\n",
        "\n",
        "Now we'll visualize trains of spikes. Because the recordings are long, we will first define a short time interval and restrict the visualization to only the spikes in this interval. We defined a helper function, `restrict_spike_times`, to do this for you. If you call `help()` on the function, it will tell you a little bit about itself:"
      ]
    },
    {
      "cell_type": "code",
      "execution_count": 17,
      "metadata": {
        "execution": {},
        "id": "5Su4vbTaxorE"
      },
      "outputs": [],
      "source": [
        "# @markdown Execute this cell for helper function `restrict_spike_times`\n",
        "def restrict_spike_times(spike_times, interval):\n",
        "  \"\"\"Given a spike_time dataset, restrict to spikes within given interval.\n",
        "\n",
        "  Args:\n",
        "    spike_times (sequence of np.ndarray): List or array of arrays,\n",
        "      each inner array has spike times for a single neuron.\n",
        "    interval (tuple): Min, max time values; keep min <= t < max.\n",
        "\n",
        "  Returns:\n",
        "    np.ndarray: like `spike_times`, but only within `interval`\n",
        "  \"\"\"\n",
        "  interval_spike_times = []\n",
        "  for spikes in spike_times:\n",
        "    interval_mask = (spikes >= interval[0]) & (spikes < interval[1])\n",
        "    interval_spike_times.append(spikes[interval_mask])\n",
        "  return np.array(interval_spike_times, object)"
      ]
    },
    {
      "cell_type": "code",
      "execution_count": 18,
      "metadata": {
        "execution": {},
        "pycharm": {
          "name": "#%%\n"
        },
        "colab": {
          "base_uri": "https://localhost:8080/"
        },
        "id": "OducZX7vxorE",
        "outputId": "27d9fa70-54e5-421b-a955-8c573aa4f6bb"
      },
      "outputs": [
        {
          "output_type": "stream",
          "name": "stdout",
          "text": [
            "Help on function restrict_spike_times in module __main__:\n",
            "\n",
            "restrict_spike_times(spike_times, interval)\n",
            "    Given a spike_time dataset, restrict to spikes within given interval.\n",
            "    \n",
            "    Args:\n",
            "      spike_times (sequence of np.ndarray): List or array of arrays,\n",
            "        each inner array has spike times for a single neuron.\n",
            "      interval (tuple): Min, max time values; keep min <= t < max.\n",
            "    \n",
            "    Returns:\n",
            "      np.ndarray: like `spike_times`, but only within `interval`\n",
            "\n"
          ]
        }
      ],
      "source": [
        "help(restrict_spike_times)"
      ]
    },
    {
      "cell_type": "code",
      "execution_count": 19,
      "metadata": {
        "execution": {},
        "pycharm": {
          "name": "#%%\n"
        },
        "id": "5wV43fHhxorE"
      },
      "outputs": [],
      "source": [
        "t_interval = (5, 15)  # units are seconds after start of recording\n",
        "interval_spike_times = restrict_spike_times(spike_times, t_interval)"
      ]
    },
    {
      "cell_type": "markdown",
      "metadata": {
        "execution": {},
        "id": "4pwr2AS3xorE"
      },
      "source": [
        "Is this a representative interval? What fraction of the total spikes fall in this interval?"
      ]
    },
    {
      "cell_type": "code",
      "execution_count": 20,
      "metadata": {
        "execution": {},
        "pycharm": {
          "name": "#%%\n"
        },
        "colab": {
          "base_uri": "https://localhost:8080/"
        },
        "id": "sZ6rtZhcxorE",
        "outputId": "64c6b108-fb65-43b0-ba4d-1af167971d48"
      },
      "outputs": [
        {
          "output_type": "stream",
          "name": "stdout",
          "text": [
            "0.33% of the total spikes are in the interval\n"
          ]
        }
      ],
      "source": [
        "original_counts = sum([len(spikes) for spikes in spike_times])\n",
        "interval_counts = sum([len(spikes) for spikes in interval_spike_times])\n",
        "frac_interval_spikes = interval_counts / original_counts\n",
        "print(f\"{frac_interval_spikes:.2%} of the total spikes are in the interval\")"
      ]
    },
    {
      "cell_type": "markdown",
      "metadata": {
        "execution": {},
        "id": "0p9B4KESxorE"
      },
      "source": [
        "How does this compare to the ratio between the interval duration and the experiment duration? (What fraction of the total time is in this interval?)\n",
        "\n",
        "We can approximate the experiment duration by taking the minimum and maximum spike time in the whole dataset. To do that, we \"concatenate\" all of the neurons into one array and then use `np.ptp` (\"peak-to-peak\") to get the difference between the maximum and minimum value:"
      ]
    },
    {
      "cell_type": "code",
      "execution_count": 21,
      "metadata": {
        "execution": {},
        "pycharm": {
          "name": "#%%\n"
        },
        "colab": {
          "base_uri": "https://localhost:8080/"
        },
        "id": "x_XujILAxorF",
        "outputId": "48cec4ef-f9f9-49f3-c761-ed28eadd6c21"
      },
      "outputs": [
        {
          "output_type": "stream",
          "name": "stdout",
          "text": [
            "0.37% of the total time is in the interval\n"
          ]
        }
      ],
      "source": [
        "spike_times_flat = np.concatenate(spike_times)\n",
        "experiment_duration = np.ptp(spike_times_flat)\n",
        "interval_duration = t_interval[1] - t_interval[0]\n",
        "\n",
        "frac_interval_time = interval_duration / experiment_duration\n",
        "print(f\"{frac_interval_time:.2%} of the total time is in the interval\")"
      ]
    },
    {
      "cell_type": "markdown",
      "metadata": {
        "execution": {},
        "id": "tvAGTbl9xorF"
      },
      "source": [
        "These two values—the fraction of total spikes and the fraction of total time—are similar. This suggests the average spike rate of the neuronal population is not very different in this interval compared to the entire recording.\n",
        "\n",
        "## Section 2.2: Plotting spike trains and rasters\n",
        "\n",
        "Now that we have a representative subset, we're ready to plot the spikes, using the matplotlib `plt.eventplot` function. Let's look at a single neuron first:"
      ]
    },
    {
      "cell_type": "code",
      "execution_count": 22,
      "metadata": {
        "execution": {},
        "pycharm": {
          "name": "#%%\n"
        },
        "colab": {
          "base_uri": "https://localhost:8080/",
          "height": 431
        },
        "id": "bs_T8m8fxorF",
        "outputId": "8f23c60e-2293-4793-a29e-9860d3e2c9b7"
      },
      "outputs": [
        {
          "output_type": "display_data",
          "data": {
            "text/plain": [
              "<Figure size 576x432 with 1 Axes>"
            ],
            "image/png": "[encoded data removed]"
          },
          "metadata": {
            "image/png": {
              "width": 557,
              "height": 414
            },
            "needs_background": "light"
          }
        }
      ],
      "source": [
        "neuron_idx = 1\n",
        "plt.eventplot(interval_spike_times[neuron_idx], color=\".2\")\n",
        "plt.xlabel(\"Time (s)\")\n",
        "plt.yticks([]);"
      ]
    },
    {
      "cell_type": "markdown",
      "metadata": {
        "execution": {},
        "id": "_vCgibDGxorF"
      },
      "source": [
        "We can also plot multiple neurons. Here are three:"
      ]
    },
    {
      "cell_type": "code",
      "execution_count": 23,
      "metadata": {
        "execution": {},
        "pycharm": {
          "name": "#%%\n"
        },
        "colab": {
          "base_uri": "https://localhost:8080/",
          "height": 430
        },
        "id": "c3f24LR-xorF",
        "outputId": "852e0aba-1253-4b17-f45d-f82e920820bf"
      },
      "outputs": [
        {
          "output_type": "display_data",
          "data": {
            "text/plain": [
              "<Figure size 576x432 with 1 Axes>"
            ],
            "image/png": "[encoded data removed]"
          },
          "metadata": {
            "image/png": {
              "width": 557,
              "height": 413
            },
            "needs_background": "light"
          }
        }
      ],
      "source": [
        "neuron_idx = [1, 11, 51]\n",
        "plt.eventplot(interval_spike_times[neuron_idx], color=\".2\")\n",
        "plt.xlabel(\"Time (s)\")\n",
        "plt.yticks([]);"
      ]
    },
    {
      "cell_type": "markdown",
      "metadata": {
        "execution": {},
        "id": "8pIjPPmexorF"
      },
      "source": [
        "This makes a \"raster\" plot, where the spikes from each neuron appear in a different row.\n",
        "\n",
        "Plotting a large number of neurons can give you a sense for the characteristics in the population. Let's show every 5th neuron that was recorded:"
      ]
    },
    {
      "cell_type": "code",
      "execution_count": 24,
      "metadata": {
        "execution": {},
        "pycharm": {
          "name": "#%%\n"
        },
        "colab": {
          "base_uri": "https://localhost:8080/",
          "height": 430
        },
        "id": "UkPTdPB_xorF",
        "outputId": "8e118f3a-b862-472c-e286-14434153578d"
      },
      "outputs": [
        {
          "output_type": "display_data",
          "data": {
            "text/plain": [
              "<Figure size 576x432 with 1 Axes>"
            ],
            "image/png": "[encoded data removed]"
          },
          "metadata": {
            "image/png": {
              "width": 558,
              "height": 413
            },
            "needs_background": "light"
          }
        }
      ],
      "source": [
        "neuron_idx = np.arange(0, len(spike_times), 5)\n",
        "plt.eventplot(interval_spike_times[neuron_idx], color=\".2\")\n",
        "plt.xlabel(\"Time (s)\")\n",
        "plt.yticks([]);"
      ]
    },
    {
      "cell_type": "markdown",
      "metadata": {
        "execution": {},
        "id": "HpuaCDHUxorF"
      },
      "source": [
        "*Question*: How does the information in this plot relate to the histogram of total spike counts that you saw above?"
      ]
    },
    {
      "cell_type": "markdown",
      "metadata": {
        "execution": {},
        "id": "HTwNKpWxxorG"
      },
      "source": [
        "[*Click for solution*](https://github.com/NeuromatchAcademy/course-content/tree/main//tutorials/W1D1_ModelTypes/solutions/W1D1_Tutorial1_Solution_b01195c9.py)\n",
        "\n"
      ]
    },
    {
      "cell_type": "code",
      "execution_count": 25,
      "metadata": {
        "cellView": "form",
        "execution": {},
        "colab": {
          "base_uri": "https://localhost:8080/",
          "height": 581,
          "referenced_widgets": [
            "293f4965ff9948f38d4c543ab345ed17",
            "084f284cb57245cabeb00f48abffbe5e",
            "462c9005b753443aa337a5b123fc85cf",
            "9e3c6517a8304b15a8f86058dc3d1299",
            "d17a409098db4ebba702f2a081434b17",
            "f76076ccbf6949f5a42f62de75ffcd05"
          ]
        },
        "id": "QAkWK25xxorG",
        "outputId": "6fbcf426-715e-4133-e94e-78611378be95"
      },
      "outputs": [
        {
          "output_type": "display_data",
          "data": {
            "text/plain": [
              "Tab(children=(Output(), Output()), _titles={'0': 'Youtube', '1': 'Bilibili'})"
            ],
            "application/vnd.jupyter.widget-view+json": {
              "version_major": 2,
              "version_minor": 0,
              "model_id": "293f4965ff9948f38d4c543ab345ed17"
            }
          },
          "metadata": {}
        }
      ],
      "source": [
        "# @title Video 3: Visualizing activity\n",
        "from ipywidgets import widgets\n",
        "\n",
        "out2 = widgets.Output()\n",
        "with out2:\n",
        "  from IPython.display import IFrame\n",
        "  class BiliVideo(IFrame):\n",
        "      def __init__(self, id, page=1, width=400, height=300, **kwargs):\n",
        "          self.id=id\n",
        "          src = 'https://player.bilibili.com/player.html?bvid={0}&page={1}'.format(id, page)\n",
        "          super(BiliVideo, self).__init__(src, width, height, **kwargs)\n",
        "\n",
        "  video = BiliVideo(id=\"BV1dt4y1Q7C5\", width=854, height=480, fs=1)\n",
        "  print('Video available at https://www.bilibili.com/video/{0}'.format(video.id))\n",
        "  display(video)\n",
        "\n",
        "out1 = widgets.Output()\n",
        "with out1:\n",
        "  from IPython.display import YouTubeVideo\n",
        "  video = YouTubeVideo(id=\"QGA5FCW7kkA\", width=854, height=480, fs=1, rel=0)\n",
        "  print('Video available at https://youtube.com/watch?v=' + video.id)\n",
        "  display(video)\n",
        "\n",
        "out = widgets.Tab([out1, out2])\n",
        "out.set_title(0, 'Youtube')\n",
        "out.set_title(1, 'Bilibili')\n",
        "\n",
        "display(out)"
      ]
    },
    {
      "cell_type": "markdown",
      "metadata": {
        "execution": {},
        "id": "a8mFcXFFxorH"
      },
      "source": [
        "---\n",
        "\n",
        "# Section 3: Inter-spike intervals and their distributions\n",
        "\n",
        "*Estimated timing to here from start of tutorial: 25 min*"
      ]
    },
    {
      "cell_type": "markdown",
      "metadata": {
        "execution": {},
        "id": "bqukCOIkxorH"
      },
      "source": [
        "Given the ordered arrays of spike times for each neuron in `spike_times`, which we've just visualized, what can we ask next?\n",
        "\n",
        "Scientific questions are informed by existing models. So, what knowledge do we already have that can inform questions about this data?\n",
        "\n",
        "We know that there are physical constraints on neuron spiking. Spiking costs energy, which the neuron's cellular machinery can only obtain at a finite rate. Therefore neurons should have a refractory period: they can only fire as quickly as their metabolic processes can support, and there is a minimum delay between consecutive spikes of the same neuron.\n",
        "\n",
        "More generally, we can ask \"how long does a neuron wait to spike again?\" or \"what is the longest a neuron will wait?\" Can we transform spike times into something else, to address questions like these more directly?\n",
        "\n",
        "We can consider the inter-spike times (or interspike intervals: ISIs). These are simply the time differences between consecutive spikes of the same neuron.\n",
        "\n",
        "### Exercise 3: Plot the distribution of ISIs for a single neuron\n",
        "\n",
        "*Exercise objective:* make a histogram, like we did for spike counts, to show the distribution of ISIs for one of the neurons in the dataset.\n",
        "\n",
        "Do this in three steps:\n",
        "\n",
        "1. Extract the spike times for one of the neurons\n",
        "2. Compute the ISIs (the amount of time between spikes, or equivalently, the difference between adjacent spike times)\n",
        "3. Plot a histogram with the array of individual ISIs"
      ]
    },
    {
      "cell_type": "code",
      "execution_count": 26,
      "metadata": {
        "execution": {},
        "pycharm": {
          "name": "#%%\n"
        },
        "colab": {
          "base_uri": "https://localhost:8080/",
          "height": 430
        },
        "id": "fBt54dZzxorH",
        "outputId": "64088b28-7a56-4ea3-83ba-f7a373c56b1e"
      },
      "outputs": [
        {
          "output_type": "display_data",
          "data": {
            "text/plain": [
              "<Figure size 576x432 with 1 Axes>"
            ],
            "image/png": "[encoded data removed]"
          },
          "metadata": {
            "image/png": {
              "width": 558,
              "height": 413
            },
            "needs_background": "light"
          }
        }
      ],
      "source": [
        "def compute_single_neuron_isis(spike_times, neuron_idx):\n",
        "  \"\"\"Compute a vector of ISIs for a single neuron given spike times.\n",
        "\n",
        "  Args:\n",
        "    spike_times (list of 1D arrays): Spike time dataset, with the first\n",
        "      dimension corresponding to different neurons.\n",
        "    neuron_idx (int): Index of the unit to compute ISIs for.\n",
        "\n",
        "  Returns:\n",
        "    isis (1D array): Duration of time between each spike from one neuron.\n",
        "  \"\"\"\n",
        "  #############################################################################\n",
        "  # Students: Fill in missing code (...) and comment or remove the next line\n",
        "  #raise NotImplementedError(\"Exercise: compute single neuron ISIs\")\n",
        "  #############################################################################\n",
        "\n",
        "  # Extract the spike times for the specified neuron\n",
        "  single_neuron_spikes = spike_times[neuron_idx]\n",
        "\n",
        "  # Compute the ISIs for this set of spikes\n",
        "  # Hint: the function np.diff computes discrete differences along an array\n",
        "  isis = np.diff(single_neuron_spikes)\n",
        "\n",
        "  return isis\n",
        "\n",
        "# Compute ISIs\n",
        "single_neuron_isis = compute_single_neuron_isis(spike_times, neuron_idx=283)\n",
        "\n",
        "# Visualize ISIs\n",
        "plot_isis(single_neuron_isis)"
      ]
    },
    {
      "cell_type": "markdown",
      "metadata": {
        "execution": {},
        "pycharm": {
          "name": "#%%\n"
        },
        "id": "qTXGhdn_xorH"
      },
      "source": [
        "[*Click for solution*](https://github.com/NeuromatchAcademy/course-content/tree/main//tutorials/W1D1_ModelTypes/solutions/W1D1_Tutorial1_Solution_2972c168.py)\n",
        "\n",
        "*Example output:*\n",
        "\n",
        "<img alt='Solution hint' align='left' width=1116.0 height=828.0 src=https://raw.githubusercontent.com/NeuromatchAcademy/course-content/main/tutorials/W1D1_ModelTypes/static/W1D1_Tutorial1_Solution_2972c168_0.png>\n",
        "\n"
      ]
    },
    {
      "cell_type": "markdown",
      "metadata": {
        "execution": {},
        "id": "ThrbvdBOxorH"
      },
      "source": [
        "---\n",
        "\n",
        "In general, the shorter ISIs are predominant, with counts decreasing rapidly (and smoothly, more or less) with increasing ISI. However, counts also rapidly decrease to zero with _decreasing_ ISI below the maximum of the distribution (8-11 ms). The absence of these very low ISIs agrees with the refractory period hypothesis: the neuron cannot fire quickly enough to populate this region of the ISI distribution.\n",
        "\n",
        "Check the distributions of some other neurons. To resolve various features of the distributions, you might need to play with the value of `bins` in the call to `plt.hist`. Using too few bins might smooth over interesting details, but if you use too many bins, the random variability will start to dominate.\n",
        "\n",
        "You might also want to restrict the range to see the shape of the distribution when focusing on relatively short or long ISIs. *Hint:* `plt.hist` takes a `range` argument"
      ]
    },
    {
      "cell_type": "markdown",
      "metadata": {
        "execution": {},
        "id": "APMkoy85xorH"
      },
      "source": [
        "---\n",
        "\n",
        "# Section 4: What is the functional form of an ISI distribution?\n",
        "\n",
        "*Estimated timing to here from start of tutorial: 35 min*"
      ]
    },
    {
      "cell_type": "code",
      "execution_count": 27,
      "metadata": {
        "cellView": "form",
        "execution": {},
        "colab": {
          "base_uri": "https://localhost:8080/",
          "height": 581,
          "referenced_widgets": [
            "aa6f2cde236841458931336c9cec8b7d",
            "2ea1c26af0064f0695b8b00c7c14c9d5",
            "cc0ec4c1d7ed4c469e4c5bee2f9bae56",
            "aeb0e82229844f55972504c746706593",
            "5dc1bc5ffb0d42b981a8cd06642bba64",
            "90f72f6630ad4e8da9d1c45126288293"
          ]
        },
        "id": "abewbKpQxorH",
        "outputId": "d23d0622-fb5d-4761-feb6-f81588f9b64f"
      },
      "outputs": [
        {
          "output_type": "display_data",
          "data": {
            "text/plain": [
              "Tab(children=(Output(), Output()), _titles={'0': 'Youtube', '1': 'Bilibili'})"
            ],
            "application/vnd.jupyter.widget-view+json": {
              "version_major": 2,
              "version_minor": 0,
              "model_id": "aa6f2cde236841458931336c9cec8b7d"
            }
          },
          "metadata": {}
        }
      ],
      "source": [
        "# @title Video 4: ISI distribution\n",
        "from ipywidgets import widgets\n",
        "\n",
        "out2 = widgets.Output()\n",
        "with out2:\n",
        "  from IPython.display import IFrame\n",
        "  class BiliVideo(IFrame):\n",
        "      def __init__(self, id, page=1, width=400, height=300, **kwargs):\n",
        "          self.id=id\n",
        "          src = 'https://player.bilibili.com/player.html?bvid={0}&page={1}'.format(id, page)\n",
        "          super(BiliVideo, self).__init__(src, width, height, **kwargs)\n",
        "\n",
        "  video = BiliVideo(id=\"BV1ov411B7Pm\", width=854, height=480, fs=1)\n",
        "  print('Video available at https://www.bilibili.com/video/{0}'.format(video.id))\n",
        "  display(video)\n",
        "\n",
        "out1 = widgets.Output()\n",
        "with out1:\n",
        "  from IPython.display import YouTubeVideo\n",
        "  video = YouTubeVideo(id=\"DHhM80MOTe8\", width=854, height=480, fs=1, rel=0)\n",
        "  print('Video available at https://youtube.com/watch?v=' + video.id)\n",
        "  display(video)\n",
        "\n",
        "out = widgets.Tab([out1, out2])\n",
        "out.set_title(0, 'Youtube')\n",
        "out.set_title(1, 'Bilibili')\n",
        "\n",
        "display(out)"
      ]
    },
    {
      "cell_type": "markdown",
      "metadata": {
        "execution": {},
        "id": "3HyPo4JexorI"
      },
      "source": [
        "The ISI histograms seem to follow continuous, monotonically decreasing functions above their maxima. The function is clearly non-linear. Could it belong to a single family of functions?\n",
        "\n",
        "To motivate the idea of using a mathematical function to explain physiological phenomena, let's define a few different function forms that we might expect the relationship to follow: exponential, inverse, and linear."
      ]
    },
    {
      "cell_type": "code",
      "execution_count": 31,
      "metadata": {
        "execution": {},
        "pycharm": {
          "name": "#%%\n"
        },
        "id": "Q5YfE7WCxorI"
      },
      "outputs": [],
      "source": [
        "def exponential(xs, scale, rate, x0):\n",
        "  \"\"\"A simple parameterized exponential function, applied element-wise.\n",
        "\n",
        "  Args:\n",
        "    xs (np.ndarray or float): Input(s) to the function.\n",
        "    scale (float): Linear scaling factor.\n",
        "    rate (float): Exponential growth (positive) or decay (negative) rate.\n",
        "    x0 (float): Horizontal offset.\n",
        "\n",
        "  \"\"\"\n",
        "  ys = scale * np.exp(rate * (xs - x0))\n",
        "  return ys\n",
        "\n",
        "def inverse(xs, scale, x0):\n",
        "  \"\"\"A simple parameterized inverse function (`1/x`), applied element-wise.\n",
        "\n",
        "  Args:\n",
        "    xs (np.ndarray or float): Input(s) to the function.\n",
        "    scale (float): Linear scaling factor.\n",
        "    x0 (float): Horizontal offset.\n",
        "\n",
        "  \"\"\"\n",
        "  ys = scale / (xs - x0)\n",
        "  return ys\n",
        "\n",
        "def linear(xs, slope, y0):\n",
        "  \"\"\"A simple linear function, applied element-wise.\n",
        "\n",
        "  Args:\n",
        "    xs (np.ndarray or float): Input(s) to the function.\n",
        "    slope (float): Slope of the line.\n",
        "    y0 (float): y-intercept of the line.\n",
        "\n",
        "  \"\"\"\n",
        "  ys = slope * xs + y0\n",
        "  return ys"
      ]
    },
    {
      "cell_type": "markdown",
      "metadata": {
        "execution": {},
        "id": "P8k3AXZxxorI"
      },
      "source": [
        "### Interactive Demo 4: ISI functions explorer\n",
        "\n",
        "Here is an interactive demo where you can vary the parameters of these functions and see how well the resulting outputs correspond to the data. Adjust the parameters by moving the sliders and see how close you can get the lines to follow the falling curve of the histogram. This will give you a taste of what you're trying to do when you *fit a model* to data.\n",
        "\n",
        "\"Interactive demo\" cells have hidden code that defines an interface where you can play with the parameters of some function using sliders. You don't need to worry about how the code works – but you do need to **run the cell** to enable the sliders.\n",
        "\n",
        "- Which type of function (exponential/inverse/linear) can you make match the data best?\n"
      ]
    },
    {
      "cell_type": "code",
      "execution_count": 29,
      "metadata": {
        "cellView": "form",
        "execution": {},
        "pycharm": {
          "name": "#%%\n"
        },
        "colab": {
          "base_uri": "https://localhost:8080/",
          "height": 654,
          "referenced_widgets": [
            "7cb8494fc8c243f181b70ec01ef8b7f9",
            "d591c676bdd443288126ccad7cb06363",
            "253cc049deb24b5099bbb64e64c38616",
            "39d683d33ea9435b901617f691870d18",
            "4578dcb0a84a4cbebf26c7f51f5da9d4",
            "fd2cf442b0254a13a518092d0a52c4e8",
            "66274247603b4627bba8a585dd7fc9e5",
            "a552bf3c9a284d269e8f090beb7454ca",
            "2e31a315b6614fee95318497e3236e72",
            "b0c86ff43d7044dcae63f9b173453273",
            "d1b13bb586b148edb622f77fcbdc1cf0",
            "4eff601398c64ac3846424c0450c5b08",
            "8d218e46b7a94ddaa1e0e09fa786fde8",
            "7a7525952f1047629957a30b05079235",
            "1b33e93f4d714b5380e72e29e432cc17",
            "f9094253c95a466b9cd2fc6ce2099d93",
            "367a2af0f6824d3f8aafcd4b386271f6",
            "c376e9000815420a8857dc0448cf138c",
            "31bb6a6714bd4107929f9ff60ae25309",
            "f790c74b95a945c38c73d4a4e479bd46",
            "17249eeefdbf402cb66ad380a06aae40",
            "03c060fdc16a4ffdb5915d9163648535",
            "f0b883d448c64194865d685074c9fca4",
            "be89a2939c144d8c8bebb3f6e780c08c",
            "5d096a1c87d741f88e541658291af63d"
          ]
        },
        "id": "JJX9J9-BxorI",
        "outputId": "fca3b196-5e50-4cf5-a5be-27f5f54c1900"
      },
      "outputs": [
        {
          "output_type": "display_data",
          "data": {
            "text/plain": [
              "interactive(children=(FloatSlider(value=1000.0, description='exp_scale', max=20000.0, step=250.0), FloatSlider…"
            ],
            "application/vnd.jupyter.widget-view+json": {
              "version_major": 2,
              "version_minor": 0,
              "model_id": "7cb8494fc8c243f181b70ec01ef8b7f9"
            }
          },
          "metadata": {}
        }
      ],
      "source": [
        "#@title\n",
        "\n",
        "#@markdown Be sure to run this cell to enable the demo\n",
        "# Don't worry about understanding this code! It's to setup an interactive plot.\n",
        "single_neuron_idx = 283\n",
        "single_neuron_spikes = spike_times[single_neuron_idx]\n",
        "single_neuron_isis = np.diff(single_neuron_spikes)\n",
        "\n",
        "counts, edges = np.histogram(\n",
        "  single_neuron_isis,\n",
        "  bins=50,\n",
        "  range=(0, single_neuron_isis.max())\n",
        ")\n",
        "\n",
        "functions = dict(\n",
        "  exponential=exponential,\n",
        "  inverse=inverse,\n",
        "  linear=linear,\n",
        ")\n",
        "\n",
        "colors = dict(\n",
        "  exponential=\"C1\",\n",
        "  inverse=\"C2\",\n",
        "  linear=\"C4\",\n",
        ")\n",
        "\n",
        "@widgets.interact(\n",
        "  exp_scale=widgets.FloatSlider(1000, min=0, max=20000, step=250),\n",
        "  exp_rate=widgets.FloatSlider(-10, min=-200, max=50, step=1),\n",
        "  exp_x0=widgets.FloatSlider(0.1, min=-0.5, max=0.5, step=0.005),\n",
        "  inv_scale=widgets.FloatSlider(1000, min=0, max=3e2, step=10),\n",
        "  inv_x0=widgets.FloatSlider(0, min=-0.2, max=0.2, step=0.01),\n",
        "  lin_slope=widgets.FloatSlider(-1e5, min=-6e5, max=1e5, step=10000),\n",
        "  lin_y0=widgets.FloatSlider(10000, min=0, max=4e4, step=1000),\n",
        ")\n",
        "def fit_plot(\n",
        "  exp_scale=1000, exp_rate=-10, exp_x0=0.1,\n",
        "  inv_scale=1000, inv_x0=0,\n",
        "  lin_slope=-1e5, lin_y0=2000,\n",
        "):\n",
        "  \"\"\"Helper function for plotting function fits with interactive sliders.\"\"\"\n",
        "  func_params = dict(\n",
        "    exponential=(exp_scale, exp_rate, exp_x0),\n",
        "    inverse=(inv_scale, inv_x0),\n",
        "    linear=(lin_slope, lin_y0),\n",
        "  )\n",
        "  f, ax = plt.subplots()\n",
        "  ax.fill_between(edges[:-1], counts, step=\"post\", alpha=.5)\n",
        "  xs = np.linspace(1e-10, edges.max())\n",
        "  for name, function in functions.items():\n",
        "    ys = function(xs, *func_params[name])\n",
        "    ax.plot(xs, ys, lw=3, color=colors[name], label=name);\n",
        "  ax.set(\n",
        "      xlim=(edges.min(), edges.max()),\n",
        "      ylim=(0, counts.max() * 1.1),\n",
        "      xlabel=\"ISI (s)\",\n",
        "      ylabel=\"Number of spikes\",\n",
        "  )\n",
        "  ax.legend()"
      ]
    },
    {
      "cell_type": "markdown",
      "metadata": {
        "execution": {},
        "id": "M34vplVWxorI"
      },
      "source": [
        "[*Click for solution*](https://github.com/NeuromatchAcademy/course-content/tree/main//tutorials/W1D1_ModelTypes/solutions/W1D1_Tutorial1_Solution_b6cd7761.py)\n",
        "\n"
      ]
    },
    {
      "cell_type": "code",
      "execution_count": 30,
      "metadata": {
        "cellView": "form",
        "execution": {},
        "colab": {
          "base_uri": "https://localhost:8080/",
          "height": 581,
          "referenced_widgets": [
            "d5c56e409fc0450880f5a10476f30a32",
            "00c7233db73445949a09843a3ce78ebc",
            "ea820c5cb6ef4314aca3a00e4803266e",
            "4acce607a57c41e68715dba484fd8073",
            "89cb7fc32d2f42e28415f1426795c191",
            "8d558f1bc16b4d7296794b175ef07653"
          ]
        },
        "id": "C_5qu5hlxorI",
        "outputId": "605efc88-d60c-442a-eabb-97f54f1e307e"
      },
      "outputs": [
        {
          "output_type": "display_data",
          "data": {
            "text/plain": [
              "Tab(children=(Output(), Output()), _titles={'0': 'Youtube', '1': 'Bilibili'})"
            ],
            "application/vnd.jupyter.widget-view+json": {
              "version_major": 2,
              "version_minor": 0,
              "model_id": "d5c56e409fc0450880f5a10476f30a32"
            }
          },
          "metadata": {}
        }
      ],
      "source": [
        "# @title Video 5: Fitting models by hand\n",
        "from ipywidgets import widgets\n",
        "\n",
        "out2 = widgets.Output()\n",
        "with out2:\n",
        "  from IPython.display import IFrame\n",
        "  class BiliVideo(IFrame):\n",
        "      def __init__(self, id, page=1, width=400, height=300, **kwargs):\n",
        "          self.id=id\n",
        "          src = 'https://player.bilibili.com/player.html?bvid={0}&page={1}'.format(id, page)\n",
        "          super(BiliVideo, self).__init__(src, width, height, **kwargs)\n",
        "\n",
        "  video = BiliVideo(id=\"BV1w54y1S7Eb\", width=854, height=480, fs=1)\n",
        "  print('Video available at https://www.bilibili.com/video/{0}'.format(video.id))\n",
        "  display(video)\n",
        "\n",
        "out1 = widgets.Output()\n",
        "with out1:\n",
        "  from IPython.display import YouTubeVideo\n",
        "  video = YouTubeVideo(id=\"uW2HDk_4-wk\", width=854, height=480, fs=1, rel=0)\n",
        "  print('Video available at https://youtube.com/watch?v=' + video.id)\n",
        "  display(video)\n",
        "\n",
        "out = widgets.Tab([out1, out2])\n",
        "out.set_title(0, 'Youtube')\n",
        "out.set_title(1, 'Bilibili')\n",
        "\n",
        "display(out)"
      ]
    },
    {
      "cell_type": "markdown",
      "metadata": {
        "execution": {},
        "id": "tfiCAp8NxorI"
      },
      "source": [
        "---\n",
        "# Section 5: Reflecting on what models\n",
        "\n",
        "*Estimated timing to here from start of tutorial: 40 min*"
      ]
    },
    {
      "cell_type": "markdown",
      "metadata": {
        "execution": {},
        "id": "4Ac1vZq_xorJ"
      },
      "source": [
        "## Think! 5: Reflecting on what models\n",
        "\n",
        "Please discuss the following questions for around 10 minutes with your group:\n",
        "- Have you seen what models before?\n",
        "- Have you ever done one?\n",
        "- Why are what models useful?\n",
        "- When are they possible? Does your field have what models?\n",
        "- What do we learn from constructing them?"
      ]
    },
    {
      "cell_type": "markdown",
      "metadata": {
        "execution": {},
        "id": "ipGII1vtxorJ"
      },
      "source": [
        "---\n",
        "# Summary\n",
        "\n",
        "*Estimated timing of tutorial: 50 minutes*\n",
        "\n",
        "In this tutorial, we loaded some neural data and poked at it to understand how the dataset is organized. Then we made some basic plots to visualize (1) the average level of activity across the population and (2) the distribution of ISIs for an individual neuron. In the very last bit, we started to think about using mathematical formalisms to understand or explain some physiological phenomenon. All of this only allowed us to understand \"What\" the data looks like.\n",
        "\n",
        "This is the first step towards developing models that can tell us something about the brain. That's what we'll focus on in the next two tutorials."
      ]
    }
  ],
  "metadata": {
    "colab": {
      "name": "W1D1_Tutorial1",
      "provenance": [],
      "toc_visible": true,
      "include_colab_link": true
    },
    "kernel": {
      "display_name": "Python 3",
      "language": "python",
      "name": "python3"
    },
    "kernelspec": {
      "display_name": "Python 3",
      "name": "python3"
    },
    "language_info": {
      "codemirror_mode": {
        "name": "ipython",
        "version": 3
      },
      "file_extension": ".py",
      "mimetype": "text/x-python",
      "name": "python",
      "nbconvert_exporter": "python",
      "pygments_lexer": "ipython3",
      "version": "3.7.13"
    },
    "widgets": {
      "application/vnd.jupyter.widget-state+json": {
        "b642345ccf314fd0a779f8e83a853a3a": {
          "model_module": "@jupyter-widgets/controls",
          "model_name": "TabModel",
          "model_module_version": "1.5.0",
          "state": {
            "_dom_classes": [],
            "_model_module": "@jupyter-widgets/controls",
            "_model_module_version": "1.5.0",
            "_model_name": "TabModel",
            "_titles": {
              "0": "Youtube",
              "1": "Bilibili"
            },
            "_view_count": null,
            "_view_module": "@jupyter-widgets/controls",
            "_view_module_version": "1.5.0",
            "_view_name": "TabView",
            "box_style": "",
            "children": [
              "IPY_MODEL_c8cc6c561e6541a4b8adf9a2863c1d42",
              "IPY_MODEL_4cababefde7d4cc79ffd2d8f7b4f443d"
            ],
            "layout": "IPY_MODEL_35f1952130ee4beab62de1dc780d331b",
            "selected_index": 0
          }
        },
        "c8cc6c561e6541a4b8adf9a2863c1d42": {
          "model_module": "@jupyter-widgets/output",
          "model_name": "OutputModel",
          "model_module_version": "1.0.0",
          "state": {
            "_dom_classes": [],
            "_model_module": "@jupyter-widgets/output",
            "_model_module_version": "1.0.0",
            "_model_name": "OutputModel",
            "_view_count": null,
            "_view_module": "@jupyter-widgets/output",
            "_view_module_version": "1.0.0",
            "_view_name": "OutputView",
            "layout": "IPY_MODEL_4c374f019aba4bd283e3a80198282caa",
            "msg_id": "",
            "outputs": [
              {
                "output_type": "stream",
                "name": "stdout",
                "text": [
                  "Video available at https://youtube.com/watch?v=KgqR_jbjMQg\n"
                ]
              },
              {
                "output_type": "display_data",
                "data": {
                  "text/plain": "<IPython.lib.display.YouTubeVideo at 0x7f3a7c07c8b0>",
                  "text/html": "\n        <iframe\n            width=\"854\"\n            height=\"480\"\n            src=\"https://www.youtube.com/embed/KgqR_jbjMQg?fs=1&rel=0\"\n            frameborder=\"0\"\n            allowfullscreen\n        ></iframe>\n        ",
                  "image/jpeg": "/9j/4AAQSkZJRgABAQAAAQABAAD/2wCEAAUDBAkICgsICAgICAgKCgoICAgICggICAgICAoICggICAoIChALCAgOCggIDRUNDhERExMTCAsWGBYSGBASExIBBQUFCAcIDwgJDhINDg8SEhISEhISEhISEhISEhISEhISEhISEhISEhISEhISEhISEhISEhISEhISEhISEhISEv/AABEIAWgB4AMBIgACEQEDEQH/xAAdAAEAAgMBAQEBAAAAAAAAAAAABQYEBwgDAgEJ/8QAWhAAAQMCAwMGBgsMBggFBQAAAQACAwQRBRIhBhMxBxYiQVFSCBRhcZLSGCMyM1RVgZGT1OIVNUJzdZShpLGytNEJYnKCwfAkNjdDdLPh8Rc0VoO1JYWio8T/xAAaAQEBAAMBAQAAAAAAAAAAAAAAAQIEBQMG/8QALBEBAAIBAwIDBwUBAAAAAAAAAAECEQMEIRIxBUFRFCJhgbHB8BORodHxI//aAAwDAQACEQMRAD8A4yREQEREBERAREQEREBERAREQEREBERAREQEREBERAREQEREBERAREQEREBERAREQEREBERAREQEREBERAREQEREBERAREQEREBERAREQEREBERAREQEREBERAREQEREBERAREQEREBERAREQEREBERAREQEREBERAREQEREBERAREQEREBERAREQEREBERAREQEREBERART/NSfvw+k/wBROak/fh9J/qIIBFP81J+/D6T/AFE5qT9+H0n+oggEU/zUn78PpP8AUTmpP34fSf6iCART/NSfvw+k/wBROak/fh9J/qIIBFP81J+/D6T/AFE5qT9+H0n+oggEU/zUn78PpP8AUTmpP34fSf6iCART/NSfvw+k/wBROak/fh9J/qIIBFP81J+/D6T/AFE5qT9+H0n+oggEU/zUn78PpP8AUTmpP34fSf6iCART/NSfvw+k/wBROak/fh9J/qIIBFP81J+/D6T/AFE5qT9+H0n+oggEU/zUn78PpP8AUTmpP34fSf6iCART/NSfvw+k/wBROak/fh9J/qIIBFP81J+/D6T/AFE5qT9+H0n+oggEU/zUn78PpP8AUTmpP34fSf6iCART/NSfvw+k/wBROak/fh9J/qIIBFP81J+/D6T/AFE5qT9+H0n+oggEU/zUn78PpP8AUTmpP34fSf6iCART/NSfvw+k/wBROak/fh9J/qIIBFP81J+/D6T/AFE5qT9+H0n+oggEU/zUn78PpP8AUTmpP34fSf6iCART/NSfvw+k/wBROak/fh9J/qIIBFP81J+/D6T/AFE5qT9+H0n+oggEU/zUn78PpP8AUTmpP34fSf6iCART/NSfvw+k/wBROak/fh9J/qIIBFP81J+/D6T/AFE5qT9+H0n+oggEU/zUn78PpP8AUTmpP34fSf6iCART/NSfvw+k/wBROak/fh9J/qIIBFP81J+/D6T/AFE5qT9+H0n+oggEU/zUn78PpP8AUTmpP34fSf6iC5oiLJiIiICIiAiIgIiICIiAiIgIiICIiAiIgIiICIiAiIgIiICIiAiIgIiICIiAiIgIiICIiAiIgIiICIiAiIgIiICIiAiIgIiICIiAiIgIobHMd8VeI91nuwPvny8S4WtlPd/SsDncPg5+k+wouFoRVfncPg5+k+wnO4fBz9J9hDC0IqvzuHwc/SfYTncPg5+k+whhaEVX53D4OfpPsJzuHwc/SfYQwtCKr87h8HP0n2E53D4OfpPsIYWhFV+dw+Dn6T7Cc7h8HP0n2EMLQiq/O4fBz9J9hOdw+Dn6T7CGFoRVfncPg5+k+wnO4fBz9J9hDC0IqvzuHwc/SfYTncPg5+k+whhaEVX53D4OfpPsJzuHwc/SfYQwtCKr87h8HP0n2E53D4OfpPsIYWhFV+dw+Dn6T7Cc7h8HP0n2EMLQiq/O4fBz9J9hOdw+Dn6T7CGFoRVfncPg5+k+wnO4fBz9J9hDC0IqvzuHwc/SfYTncPg5+k+whhaEVX53D4OfpPsJzuHwc/SfYQwtCKr87h8HP0n2E53D4OfpPsIYWhFXKPagSPZHuCM72svvL2zEC9smvFWNAREVQREQEREBERAREQEREBERAREQEREBERAREQEREFM259/b+Kb+/KoBT+3Pv7fxTf35VALFkIiICK6VXJTj8VJ905MGr20AgbVmrMR3IpntD2zlw/3eRwdfsKpaAimtj9lMQxiY0uF0VRXVDY3Tuhp2GR7YWOY10jgODA6Rgv2vHavPavZutwqc0eJUs1HVNa17oJ25JAyQXY4jsIQRKIiAiIgIrzyKcl9dtbWyYdh01HBPFTPrXOrXzRxGKOWnhc1pghkcZM1Sw2LQLB2vAGsbUYPJh1XU4fM6N81JUz0croi50TpaaV8Ujoy9rXGMuYSCWg2IuBwQRqIiAi2ByJck9ftdUzUeGzUUEtPB4zI6ufPGwxmRkdmGCCUl+Z40IAtfVUzHsNfR1E9HKWOkp5paaR0ZcY3Pge6N5YXNBLCWm1wDa2gQYSK67M8k+0GJ08ddQYNX1dJLn3VRDEXxybt74pMpvraSN7T5WlSX/gTtX/6dxP6E/wA0GuEWx/8AwJ2r/wDTuJ/Qn+aoeMYdNRzS0tVE+CogkdDPDIMr4pYyWvY8dTg4EfIgxEREBERAREQEREBERAREQZeD+/w/jY/32rY61xg/v8P42P8AfatjqwkiIiqCIiAi/Y2FxDWgucTYAC5JPAADiVb8E5PqycB72iNl+k0uYJcn4TgHEN0Hlv5Fha9a95wyisz2U9FsvENh6FhayOpLix2abpNLnMtcNabho4gE6/OvMYFTNIiYynvYOdvHPEuugzNadG6g2uPnK8Lbuker1jb2lrhFtNmwtPMLhjDduu4llzBw6w2Xo28/b5LqnbSbMGma6WB5mhY7JK12UTQOJsN61pOl+sdoTS3enqTiJ5L7e9YzKuoiLaeAiIgIiICIiAiIgIiICIiCmbc+/t/FN/flUAp/bn39v4pv78qgFiyEREH9VNgH0tTgmE4PVtztxDZ+Jjo3Wyy07KKhiqYteLiyrGnYHnqX8xdudnZcIr6vDKi5lo6mWlc4tLBJuXua2VrTqGPaGvHG4eOK7R5V9sjgFDsHipNooGUwqbBzr0c+G0kNXZrdXO3EkhA16Qb2LXnh88n8n3bocRoYjKcaZHShseu9xGnMUMYzXygyQy0jW3IvunntsF1/o/8AZ6PDMNqMeqmlsmJ1sGFUF8t3wxyBjnRdeV1RJLmB6sPvbTXT3h7f60z/APCUf/JW9drq2LCMc2M2KpHAxYe6OtqyAAJKgw1EEEht7mVxNdK4W18aadFo/wAOqndNtbLFGLvkp6GNg4Xe+MNaNeGpCDXHJbySY5tKXnCKB88Mbt3NVSOjgpYn2BLDLM4NfIGuaSxmZwD2m1iFadufBo2qwiF1XLhzaunjaXzPoJo6p0TRa7nQi0zmgEkljHABriSBqt8eGJj02x2C4PszgEsmHwysmE9TSvMFS+KiFPnbniAc11RPVPlke0tLjGQbte8HU3ge8quKUmP0dBPX1VTQV8ppJ6apmlnYJJWu3E0IlcRFKJt3dzfdNLgeogOfVs7kr5B9odpIfG8OoQ2iJc1lZVyMpoJXRuyvEOf2ycBwc0uY0tBje0kEWV88IjkvgZtxDhNM3c0uMVFDUZIQG+Lsr5tzWOjB0AEkVTKABYBwAFgrr4ee3VXhc+H7M4TNLhuHwUEdTJFRPfTCRrnzU9NTO3VneLwx0pIZfKTMCQSxpAZ/gbcleM7M7S1DMXonQMlweqEFQxzJ6aYtrcKu1ksRLQ+2uR2V1tbWXL/LT9/sY/K+JfxlQulf6PvlExetxKqwetxCorKFuHyV0TKt76iSCeKooYQIZZSXshLKh9475bgEAG99O02yseN7cz4XP7xUbQ1wqAC5pfTRVlTLURtc0gsc6KKRocOBcD1IMPky8H3aTaGEVlFQNion3MVVWyMpoprW1ha68srNT02sLOiRmuLKvcqXJdjGzMrIsYonU4lzeLzscyamnye63csRLc4uCWOs4BwJAuF2N4VHJ5tfjVXT02z5FLglLTMZHDBWsoGSVBJzufFG9uZkcbYY2Bws3K/LbMb+e1mxOLybAV1DtUBLiWGiWto6l0zKyYxUeSeGUzanebt9VTEk5t2TrrdBrL+jb+++I/k0fxVOueOU777Yl+Ua3+JmXQ/9G3998R/Jo/iqdc8cp332xL8o1v8AEzILLsby57TYPSRYbhuLPpaKDebmBtPQyBm+lkmk6U1O57rySyO1J91bhYLr3wPOUfF8dwfFqvFa59XUU0jmU0hipojE0Uu8ADYImtd09ekCv59rtnwAPvBjn45/8Eg0L7JjbL4+l/NcN+qqFx/k+2jxChm2xqqTxjD6h76upxJk+HkvklqDDLI6mgl3rP8ASCQQIxlsSQALrXS7C8AvHYcVw/F9ja8l8M8MtTAwlxPi1WwUteyMn3vI51NI0N/CmkdoQSg49Vx2z5McZwakpcSxOh8UpK4MdRvfPRulmEkQmaTTxzOnitGWk52NylzQ6xICsnJLyUz1+1MezlXGbUtbK3E7B2TxXD3uNSQdC1kojEbX9tRGdbq1+HZtyMVx40EEgdR4RH4ixrC0x+OOIfXubbVrg8RQOHUaPz3CkYlyE7T076OKTB5TJiJIoGRT0VQ6bKxsj3O8XnduI2se1xfLlaAdSFZNovBZ2toqc1Zw6KpDWl8tPR1EVRVRtDS51ogQZ3C1ssOdxJFgV0p4WXKVX7OYJhTsKMUFZWRCm8fLGSVFLTtgppJmUwkaWtdK5sQLjewj0GbK5mj/AAQeWHGxtDSUFditdiFFiDn008VfUT1mSTdSvgmgM73GGXetYCRo5rnAg2aWhzcto8lvIJtHtHCKugoBHROzBlZWSMpoJS0gHcB/tk7b5hnYwsux4zXFlsfl85NqeflAhwyNoZTYtUUVXURsuzKypP8A9RLC0aSPMFTJfvS9S3P4U3J5tbi81JQbNBlJgVJSxsbDBVsoA+oDnNyuYx7c0EUMdO1jSLNvJbjoHHHKryUY1sw9jMXojDHKSIKmN7J6WYt4tZLESGvA1yPyusL2tqq7sjs3W4vUx0GG0stZVym0cMQBcQNXOcSQ2ONo1L3ENA1JC7krth8ZdsHiuHbW2nraCOqraCczNrJhT0MUdXTufPmc4yCRtVDrY7ohvBag/o8NoaCjxmqpqt0cVXW0jYKCaTK0PeyZr5aNjibiSX2t4bwd4tbjlBCvTeCRtc2LeikonvtfxdtbTiYG3ubvIhzdXu7eVaKrKd8L3xSDLJG50b23ByvYS1wuDY2IPBdG8tXJrt3s/UVOJtxPF8QpM8kxxTD6yqErIi5zs1VBFI2Wlys1dlaYmcA6wXONTM6RzpHuLnvcXvcdS5ziS5x8pJJ+VB5oiIMvB/f4fxsf77Vsda4wf3+H8bH++1bHVhJERFUERfrW5iGjiSAPOdFBfNi6CKjidW1DWulI9oB4sabNzD+sS8C/81+Vm3LbucB0m6tzXsDlFyzMLAE3v5vMpDGqCSSjAaLse1rmlrXXIaCLHXTQix6/0KhtwqQExyNJadcpb0nD+r18Osdq52pMWnMuhp1mI4Wen2tcGGSd8IcALMYyNuV1yAC4gkixvxOt+NgvmGojnZni8XZK4AeMTODGhzeB1sZSBbjoBbgqbiGz75LtaHMc4Zt3axvoOkc3YSeHWsvANjJXOb7YdLtfexAGa1mjsI0+Qryv0YznDOtb57JhmNtoC4y1b6osA9rpy+MPcLm29cAMlr+4vc34cFN4HtKyva+SdpErScrbNbvKQ2a+KS7ss4sDcOsQQbeTIrtkskcLXNjbC17N68X1ZmuRc6u6RDidf0KFxPBwyYPhjYx7GhslgGGxZK3I8j3OaSVotfQCx4LyiaWjjv6srVtWee3oxNs8GihLZ6YPEEnFpuWscRcGN3XE6zrX4EEeQVtXTD4fapKeVrnQ2LTnN905zc7ZGnzlrh/Z1uqbLGWktcLOaS0jyg2K6W11JtXE8zDR16YnMeb5REW08BERAREQEREBERAREQUzbn39v4pv78qgFP7c+/t/FN/flUAsWQiIg628Mn/VbZL/AISD/wCOolujwbsRotqdnMHrMRyy1GA1IzOe7SOswyCWGnmlc7V/+i1EE5J/Dsdcq4P2y5ScXxilpMPxGt8Yo8PY2Ohh3FJDuGMjZE0Z4IWyS2jjYLvLuF+Oqqsc72gta97Wu901riA64sbgGx0Qb55Otrzj3KFTYsb5KrFS6AEWc2liifDRtcO+KeKEHyg8F9+HXO6LayWWM5ZGU9DIx2hyvZGHNdrobEBaT2Ux+qwqqhxCgl3FZTv3tPNkil3b7EZskzXRu0J0cCFl7e7Y4hj1U7EMVqfGqx7GRum3UEF2RDLG3JTRsjFh1ht0HXnhfYDNtngmD7TYBDJXxxNlM9NTN39SyKtEG8OSMlzn089K6KRjA4gyE+5Y4jVXgfckuLVOP0lfU4dV0mH4fIaueoqoZadrpY2P8Xhg3rRvpTNuyQ33LQ4m3RB1hyYcq+ObNl33IxCSmikcHzUzmxz0srxlBc6GdrmNkLWtaXsyus0C+gVn258JHarF4HUk+J+L00jck0dDFFSOlabXa+WMb4MIuC0PDXBxBBBsguXLlypUsm3lNisUjX0GE1VDSPnjvIJYKObPXvjDR0rPmqmNLbh27a4XzK9+HjyXYpitbR47hFHPilM+iZRzMoI3VUsTopZpoZwyHM+WGVlVYOY0hu4JcRmbfjRbY5OvCG2mwKnbQ0eINko4xlggrIoqlsDepsL3jeMjHUzNlHUAg6C8BTkixTBqybGMWi+55qaGWko8PqLNr5o3T0U01VJDfNTxMMUTMrwH3m1DRlz6C51NwTbioxWQEw020Nc+ewLneLPramOpLAPdPEMkhA7QFgf+Pu1H3QdjAxiTx91O+iEhgo5IYqSSSGV8MNPLA6CEF8EJLmsDjuxcnW+vcaxKatnmrKl+8qamaSpqJMrGbyed7pJX5YwGNu9zjZoAF9AEHZXhkbLY/UzU+0ezFXidZhdVSxb6PCKipkEb2i8NXHDTSXkp5YHx9NjSAYXFxGZt+cZsM2yqKaokmZtK6higklrZKp2Ix0gp2D20SuqXCN/RPuNSRfQr45MeW3aHZyMU+GYk9lIC53ic7IqmmBdmLt22dpMF3OLjuiy51N9VLbeeEZtRjMEtHVYixlHPGYZ6ampqWFksbr52ufuzNZwNiA+1hw4oNnf0bf33xH8mj+Kp1zxynffbEvyjW/xMyyOTblDxbZyaSpwas8Tnmj3Er9zS1GeLM1+XLVRPa3pNabgA6KvYpXSVM0tTO7PNNI+eZ9mtzyyuL5HZWANbdzibAAC+iDGXbPgAfeDHPxz/AOCXEyu3J/yr45gFPPR4TX+KU1U4uqY/F6KfeOLN2TmqYHvZ0NOiQgpKvPINtsdnsbocVLi2GKYR1gGY5qKoBiqui33wiKRz2jXpRsPEBUZSOzODT4jVU9BSsz1NVNHTQN1AMsz2sZmIHRbd1yeoAlB/SfbfCsP2Wkx3btojfU1GG08bGu0a6phBjjYyQE2jqpBhbCGjjBm1Ll/M7EKySolkqJ3ukmlkfNNI7V0ksri6R7j1uLnE/Kut/Du2iGGYfg+xsFRLMaemgqa2V5dvJoqSI0lDviOi8yPZUyuaeBjiNvclcgoO8/DK2CxTGsCwiXCqOSuNE0S1MMHTqRFLTQtbJFCOnOA5li1l3dIHKRmI0x4GfJVi020FLiNTh9XSUOHmSomnq4Zadr5d1KyCCHesG9l3r2OIHuWscTYloO3/AAxNscRwLD9na/CayWiqmtkj3kWVzXxupaUuimjka6OeIlrXZJGuF2NNrgEc6bb+EntVi9O6inxIQU8jTHO2ihipXzsNrtfLGN61pAILWOaHBzg4EGyCx8s/KvCdumY5TuFRRYZV0lOx0IBM9NRFra3dEnK/M91WGOvYgsPBbZ8MXZrHa91JtLstWYlWYZPSRMngwieqJFnPfDXMhpn3likila0lrbs3F3aO04jWw+THlo2g2cZucLxJ8dKSXGjnZHU0uY5i4xxztduCXOuTEWFxAvdB7uwzbOpp6h8jNpnUUVPNLWvqXYiykbSxxudUCZ1Q4Rubuw67CSXC9gVW9i9gsWxqOplwrD569tG2N9U2mySTMbOZBFkgDt7OTupNI2uIy62uFeNuPCR2pxeCWjqcRjipJ4nwVFPTU1NE2aKUFsjHSGMyhrmuIIDwCCqdybcpGMbOSSTYNXPonzBjZwI4JmTNiLjGHsqI3sNs77G1xmKDqTwMdr9s3Yk3CsUp8TqcHbFKZ6jFYZ2yYe5jHOg3dTUtEkpfLu4hA5zrNcXNDQxy5z8JiioqfaTFocNEbaRtW7KyK27jnLGOrI2AaMayqM7cg0blygAABWbaXwo9ra6B1McSZSse0skkooIaedzXCxyzAGSF39aIscO1aVJQfiIiDLwf3+H8bH++1bHWuMH9/h/Gx/vtWx1YSRERVBfrTY3HEaj5F+Ig3xyWQHFo4baxxvPjDXcDu2gm44FrnFgt2O+a1YvscBnkip4nPtmDBljzcLtL2tN/m6gOCp/gnVQMlZTED3EUzXa34va8dluixb0rahjej18PlP8A0XI3k9M4h2tjHVXLn6PZOoD5JZWNbM8m7SL7pl9A3q11PXoG9hU/sxsgW6yC46/N2eX/AKrY1djFNCbvMYAHSc+wAt23UezbPDnnI2aNznGwyatHlJvYBcXVveXXrSsY4YeP4ZEYsugyDQf99NeC0xtzCWOMsLy1zxu3gXAc0OJ4douB/fat81ETJQTG8OYeD2nMAfkWpuUGnFPI2OWM5nEvAjGdsrLHPYNBLXZM3V1Ada9djaerpae+px1Khg9SQA2UWzsEeozgvYTka7ycezrCre1UYbUyWFgcjgP7UbCf03Vwwpkk87IaSCWpyuBlAbfdxkN6T3ONoTYNdZ5bc3sqvt5A6KtmiewsdHkjLXCx6MbLHzWtbyWXd22IvMfBxdeJ6YnHGe6DREW+1BERAREQEREBERAREQUzbn39v4pv78qgFP7c+/t/FN/flUAsWQiIgIiICIiAiIgIr3yQVmzML5ztTSYtVRFkYoxhToWuZIC/embezx3aW5LWvwK6H5I+T/k92nir56DDtoYm4ZCyoqRVzxRukZI2oc0QbmpkDn2ppPdFo1brxsHHqLeO0uL8m7qWpbh+FbUx17qeZtDJUPpDTsrDG8Uz5w2ucTCJchdYE2B0PBaOQERXjke5MMQ2qqJqPDX0rJYIDVymrkfEzdNfHGcpjjeS7NI3SyCjoiICIiAs/Z7GanD52VlDUS0tVEXGKohcWSxl7XMcWOGrSWPcP7xUhydtw44hSjGnSNwrejx50OfeiCxuWbsF9724C69uU9uFDEqkYC6V2EZ2eJOn3m9LN1HvM+9Af77vOI4WQRu02P1mJzurMQqp6yqeGtfPUPdLK5sbQ1jS5xvYNAFlGIvaiaDIwEXBe0EHgQXDQoJvanbfFcVjigxLEqythp//AC8dTK+VkN2tad2HHo9FrR8iry6C8PPZ2hwzHqenw2hpKCB2FQTOho4YqaJ0rqrEGukLIWhpeWxsF7XsxvYufUBERAREQEREBERBl4P7/D+Nj/fatjrXGD+/w/jY/wB9q2OrCSIiKoIiINi8l9QcPllYKjJLUwlntbHuLGxtE2jiACXMuPlGqkanaWupDcTVEgdHv2GUPmiAuSL9cd2tOlxxGnEKN5HaJtfiNPa5fBTyunhIA3scUbomPjeXZcw38d2ut7k2JutsVWCCtlFPuS3Od3eQg5GPuJXNYzQvEeexJ0Nj1LnbqYi/MZdjZUtanuzMYa929dWiWJlVBKzewxTwxOdHeSR+czR2bcXZ0LtuTqLHVR0NJVysidTysjJLt9E4agkjKxjY+lwFtSLarfvKHgbarI9ozSxHNT2yksfrbR3UdPmB0IBFSwCrsdMrJW+7LYo2yNcPdD23MAb36iuV7THaKxEurXZzaMzMz81KwyjrqeV0dS2YRyQxmERzlscMkD5d44Bzi9zpGyxi1ne9akaK3HZVhp5JLOLszpIor5Hlrs996Wnpuyvd0eBGlutTrSJnl7nXeO/robG3YG6DQdgWbG7MNNLGxH+HmssPar8Ujj1x5vO2zpEza3Mz/DX2FU0NNJHHUNkibMC8bprWtay7Q1r72IZdzrdlitZ8rzA3EHMvd7Io45CTc5m5hHmPW7c7hdB4i+lijkrqtuVtM0kS9xsfSsxt7Pe5+gBB6VrLljGsQfVzy1Mnu5pHykXvlzuJDAesNFm+ZoW54XW19S2r5Rx+fs1vE9StNCujHfOf2z9c/wAMRERd18+IiICIiAiIgIiICIiCmbc+/t/FN/flUAp/bn39v4pv78qgFiyEREBERAREQEREBdW+AP8A+S2p/wCAp/8AlYsuUl1d4A//AJLan/gKb/lYsg5RXSnKDTsHJls/II2CQ4xOHSBrQ8jfbSaF1rkaDTyBc1rrrCdjazark5wvD8DbDWV+H4pPNVUu+hhkaN/i5MYdM5sbZd3iNNLle5t2E2ubAhWvBHp2P2f23c9jHOZgwLHOa1xYfEsf1aSLtOg4dgVs/o7Nrqh0ldgu7pvFYaabEmSbs+NGeSSkiLHy5rGDK2+TLx61PckvJkdmNmtq6atq4ZMaqMElqMQw+B7ZW4bT+I4v4hHK9os6okvVOdYkWYy1xZz9bf0eGJQxY7VUssjY5KvDJoqYOIBlljmppHRRgm75N02WSw/BheepBR8d23xLlAxHCMKrYsPpSavxWKSgpzBlZiElKyeWUOlcJN2yAOAFuDuN1t/lw5YHbC1o2Y2SoMPooKKGA1s8tOJqiqqZ4o5hvXkje+0yQ5nuu4lxFwGgLTA2WxfYLGcNxDGaF8McNcJojG+CVtbBQyweN+LFr+uKZti/L763hYgba8KDkZxPaLFBtLszEzGsNxWCnl3tNNTt3M0EMVNlLZnsO7cyBjr6lrt612UgAhictWGUW1WyUO3MVDTYdjFPOKXGG0bd3T1YM7abeFvEy55aWRrnEuDZXsc5+VjhauTXF8Nwrk9pcVxHDYsSNPXTSU1LI1m7nrfG6llMKlxabwMLjIQb33TRrwUBytNZshsPDsjWywux3Ep21tXRwyNlNHAKmOpzyll2gDxami42e/fFheIyVi4l/srpvym7+OqkEBsLypV2121uAz4pBQxmnnFNHHSRSRxGJxlkyvbNLJexNhrwA86rvhNVMVFtpXTmmhnhp62jndRva0QTxxQUb308jcpbu3hpadDo46FQ3gsf60YP/wAaz91621jdLQzcqTosUELqN1cy7ai25fUDDGGhY8O6Ls1WKZoadHFwGt0Fj5I+WXbHEa+gjGzLGbOVVTT00rKPCKxlBDRVEjI3VDagBzA2ON+cuJyEMNwBw0h4UWAUuGbWYhR0MDKalZPSSxwRANijdVUlHUStjaNI497PIQxtg0EAAAALorbLZzbZ21BxXEcS+5+ytFiENX4w7E2UWFDB6apZI2GSnjlDn1T4Ru3b2OzpCQXZMpWpfDh2SraXaaXFZoHNoMQfR+KVHRLJH01JSQTRGxu2RroXGxA0IKDM/pGf9Yqb8j038Zia5pXS39Iz/rFTfkem/jMTXNKAiIgIiICIiAiIgy8H9/h/Gx/vtWx1rjB/f4fxsf77VsdWEkREVQREQXHkXx1uH4rTzSECKTPSyk8A2oblYT2NEu6J8gK3zS4vLJWSNiABbG5hNj0XG3Dy2BH95cqFbz5NMVlxGHNT1G4rmMEFQ8ta/wBsDSIahzT7pkjWgO4HMx2o0XP3tJnFvLPLr+Ga8RFtP17fdLYtiWJB7t1MW2sCctyT1lubqUe9kkTTI9xMriXuN7OLnHU2PV5D2KZrYnvjAqaetfVMG7mAkZFBNKIwTNEWkuEBedL62vcdtPxbBnVQySQQQRAnOI5XzSuBy9EvytDODuBJ6XVZcjW04rPpDu0taY4z9IWHDsSe46nW17jh5fMf5hWvAKzOOlxt89uB/SqNh8QaMo0A0+SwAGvVYKw0FSI7X0WvXmXnrW45Uzl/qzFHFTjNaeWWV3SIbaIxlt29ZzPv5LLTq274QVOXR0dSB0c08Tj2F4hewH0H/MtRL6PYxH6MTHx+r5re5/WnPw+giItxqCIiAiIgIiICIiAiIgpm3Pv7fxTf35VAKf259/b+Kb+/KoBYshERAREQEREBERAWZh+KVFMHinqJ4BIMsohkkiEjRcBsgY4Zx0naHvHtWGiApPANoa7Dy51BXVlC54DZHUc81M6RovZrzC9pcBc6HtKjEQZ0eMVTd9lqqlvjN/Gssso8ZzZ83jFne3X3kl81753dpWLTzPjc2SN7o5GOD2PYS17HtILXsc3VrgQCCOFl5oglMf2irsQLDX11ZXGMERGsqJ6kxh1swjMz3ZAcrb27o7F94DtRiOHtcygxGvomPOZ7aSpqKZrzYC7xC9ocbAC57FEIg9qyqkme6WaR8srzmfJK50kj3Hi57nElx8pXqcTqDCKU1E5pgcwp95JuA65OYR3yB1yTe3WViIg9aSpkhe2WKR8UjTmZJG5zHsd2tc0gtPlC/a2qkneZZpJJpXavklc6SRxAABc55JcbADXsXiiCWxnabEK2NkNZiFdVwxWMUVTUzzxxEAgGNkry1mhI0A0K+MW2hrqtkcVXXVlVHAMtPHUTzTMgaAAGwtkeRELACzbcAoxEGVieIz1ThJUzzVEgAYHzyPleGgkhodISQ27nG3lKxURAREQEREBERAREQZeD+/w/jY/32rY61xg3v8P42P8AfatjqwkiIiqCIiApjY7aCXDKllVF0g3oyxXsJoTbPGew6Ag9TmtPUodfRYRqdOvXS/VoOJ17FJjMYllW0xOYdQYuwV0EVdTSAwTxtkbm0vnAIzDWzxwI6iCoGHDZG6yEAdgI4f4Kl8lu00zWw4MOm6aWQUhcQGseIpp5YSe57U8g96S3A3Uhj1fVRvLJI3RvBsQ42A+Y2PnXA32hMTh9Jtd310hN1crYzpx6uC+qWbO8EnQcP8/KqjT1EjyLkuceJOgVlwdjtL6dq58x0w9qz1zmWXypYbJV4RMadwFTTWrIbgEPMFzJC4HRwfHnbY9ZaufROHOcAMtibN7AdRbtsDZdAbe4sKXD6g5rF7DE3tzS9A28wJd/dK5uo43SOzNJDnSWYBexuQLfM5dnwm1uic9s8fdyPFK1jUjHfHP2SiL7qIixzmEG7TxsQHA+5c0ni0jUL4XWcsREVQREQEREBERAREQfLo2nUtB84B/avncs7jfRH8l6Iorz3LO430R/JNyzuN9EfyXoiDaPgtbGYdjeLyUWJ0jKqmbh1RUtjzzQ2mjqKBjH5qd7H6MmlFr26XDQW6f9jrsl8Ss/O8S+tLQHgRff+X8k1f8AF4Wu1VFap9jrsl8Ss/O8S+tJ7HXZL4lZ+d4l9aWw6LaCjnqZ8PhqoJK2lEbqulY9rp6dszWvhMzAbsDmuaRfiCvOq2moIquLDJK2mbiM8ZmgoTIzxqWFu8vKyK+cxe1S9K1va39hQUD2OuyXxKz87xL60nsddkviVn53iX1pbWRBqn2OuyXxKz87xL60nsddkviVn53iX1pbWRBqn2OuyXxKz87xL60nsddkviVn53iX1pbWRBqn2OuyXxKz87xL60nsddkviVn53iX1pbWRBqn2OuyXxKz87xL60nsddkviVn53iX1pXHANt6KuxCuweB0hrcMEBrWujc2NnjbN5DkedJLt424KSx3aGjoDC2tq4KU1MzKWlE72xmoqZNI4Isx6crupo1KDXnsddkviVn53iX1pPY67JfErPzvEvrS2LtHjtJhsDquvqoKOlYWh9RUyMhiaXuDWAueQAS5wAHaVm0k7JWNljcHRva2Rjhwcx4DmuF+oggoNW+x12S+JWfneJfWk9jrsl8Ss/O8S+tLayINU+x12S+JWfneJfWk9jrsl8Ss/O8S+tLaywNo8Whw+lqK+pLm09JBNVzua0vcIaaN8spa0aucGMdoOKDXHsddkviVn53iX1pPY67JfErPzvEvrSuOC7dYdVYYzHhUtgwuSPfipqv8AR2sizmPPLn97GYW17Qp3Da2KpijqaeRk0E0bJ4JoyHxywytD45I3DRzHNc0gjiCEGsfY67JfErPzvEvrSex12S+JWfneJfWltZEGqfY67JfErPzvEvrSex12S+JWfneJfWltZEHJHhY8lWB4FhtLU4VhzKWeXEWU0km+qp80DqSvlLMtRM9o6cMRuBfo8bE35s3LO430R/Jdj+Hb96KH8rR/wGKLjxVHnuWdxvoj+Sblncb6I/kvREHwImjUNb8wX2iKgiIiP1o7SAOsnQDylZdJFC46yF3aQMrL90E3LvmCgmEyuN9W8bDhx6N/kN1MSgRtA17ANCDcXPFFe1dWRxA5AGDgDYZ3HtBPSt51gUjnPyTHLZxe2NrXXDHM1dfr3pGo8mo/BtjVQ3rw0us0C73dxo46DUcDw7Co+irTlJia8NsbuOhcblzCG/g2IZY3va+isJLYOxFayDHMML3BrYnvkk7rd9BI0DThZsmv9ldA7YYZHP0nNBI6/wDPUuS8Kc5tdS2Ju3W5PCzQ0DjoNCt/Um0k0UeW28jI9ydcna1vW0eTq8i526jqtj4Ojs9SK159XjBTMa+zW31UtBx4DRVtm1Mcbi4wPJPAWAGvVcn/AAWBiO1k+V742MiHeOpubANBItckgcFyp2tp4dP2vTrGUDy44w97o6Nh6LelIerO8aD+6w//ALVRcGjtJc8GNLhp+HZrWEWOtnOafkWVjZmqniUvc4/hl1r5hdxeXONg02JueGXzLAwqQSEtbI10ri27Wkvs3ouLnOAytIc1oy3vx7Ne5oaMaWnFI8nB19WdW83nzXKGW04Y8Nkikb7lwu0tIbby8D/+K9qjZTOSYJWsudGTE2AJ4NkANx5x8qiqm4kheD7l27Nr8HaftN1aqCoIGR1z2acOPCwXq81PxXCKilPt0Tmg8HjpRnzPbosFbQZXtaCHWI4OaeBB4ggi1v8Aqq/i2EU0t3RAQO4AstkJ6g5hOnZ0beYq9XqYU9F+ytyuLCRmabG3mBBHkIIPyr8WSCIiqCIiAiIgIiICIiDePgRff+X8k1f8Xha7VXFXgRff+X8k1f8AF4Wu1Viycm4xyk0uzG1e11bM01FXJBgsGG4fGf8ASMQrH0VM2OGJou7dguaXvAOVvAOcWtdt7kI5Op8P3+OY25lTtPigEmIT6ObRQHKYsKpCCRHTxBsYdlJDnRN1cGMK1jzDodpNq9ssKxGPNDLTYK6OVtt9S1DKGDdVNO4joSsJPkcHOa4FrnA2PkJ2/rsLrnbEbVS3xSBoOC4m+4ZjOH9IQgucenVNDHAOvd27e13tkbnSBYdruVLEZ8Xl2b2Yw2mr66jhZPildiM0tNhtBvmsdBAdyx0lRO9r2mzOGoscsmTI5OuVCsmxWXZnaDD4cNxllOK6lfSTOqKDEqPMWulpnSNbJG5rmv6DgSd1Jwy2VE5PcXptm9sdo6bGaiKhGMGhxDC6qseyCmqYohUCSKOaUhm8D6rdhhIJMDrX0v8AgxWDaTb/AA+qweWKtosCwyoOIV9Od7S7+ujrIYqVk7BupH/6TG4ZXG+WcDWJ9gm8U5bsSdjeJ7M4XgQxDEKR1MKN2+MFNuJYWy1dZiUzxlp4YTJC0Nbd0hkDRrZT3ItynV+J4hiWAY5h9PQYvhYglk8SmdPSz09Uxr43sL+kwhskLtSbiYaNLSFAcif+uO2P9rBv4WZY/Jv/ALQdpfydhn8Nh6D6g5a8axDEsUwHBMBhq67D6x9P4zPO+HDqejjL2iprpCMxnkeGtZBHcuDZnXtGb3/a7F9pm+KwYThGGTTSUwmrqyvrHwUVJVDIHUscUDH1E9yXkPGgDNTci9G8Gb787YflwfsqVF8rG2z5tqW7OYlj02zGBxYa3EPGYKiHDZsTq3ysDYTXzC9NDl3wtGWkmnlF7ubkC8ci3KVXYpW4ngmM0FPQ4vhLoN8aOV89JUw1bHPilhMgzs6IY6ziTaVvAggRI5UcbxivrqPZXC8OqKLC5zRVmI4tUVFPFU1sdxNS0TaeNziWEEbx12m4Ogc0uofg0YphrdrsfjosRlq6epp6D7nVNdUz1NTiIpYxHVvhnrDva1jJmytDwXDLGMpLQCngr7a4bs4zHcEx7EKfDMQp8crKtza+RtNv4JoqaNksBlsJ83izngMuS2WNwBDgUEx4NmI1NXtVtVPW0L8Nq3MwcVFE+WOoMErKZ7HBs0XQmiOTM14tdr2mwvZZ3hk1UcDtmp55GQwxbTUEs0srgyOKKMudJJI52jGNaCSToACo7wZ9o4MX2p2qxGkbMKWoZhD6d1RE+CSWBtPIyKoEclnthlawSsLgCWSsJAvYS3hfNBl2XDgHA7UYcC1wBBBcbgg6EeRBibKUzuULEo8cqmvGyOFzvGB0MgLW4ziEJLJMVrI3aup43AtjY4X4g2vMx+yeWzlJj2bpYZBSyV9fW1MdBheHROEb6ysmNmMLyDu4xpd1jq5gt0lp/HaWfkzxN2JUcUs2xGKTj7pUkQL/ALhV0haxtVCwatp39FoyixDRGek2DNn+FVVRsn2W2tjc2qwbDsREtXUQB08bKPEnULoq4GIOvE0UuhA1fJE0G7hcJnaLlU2j2dbDX7UYLhrcGlmjgqarB6qoqKjCt9pG+rimitOzN0SYja/AklrXT/L5ytu2Y+5ckdH90IcRrG0sghL3ziI7t2ajZGD4xO5ryGsuA4louLqkeFvt9hWKYBJg2FV9JiuJ4tNQ09BSYdPDWTSObWU85eWwOcY47U72ZnWGZwHavHwiaB1JNsLSvcHPgx3C6d7hwc6F1CxzhfqJaT8qDYFByg4rh2HYhje1mG0mE0dNFFUUlNSVPjtW7eGRppah5yxGqdI6ljblytLptSLaUHbLbXa2u2er8Qq9ncPgwmtwmtPi8NdI/GKKkqaScMrJ2SxtgmY2N7ZHRtLJMt+iHAtVs8NPCZ6vZXEW07XSOi8Xq5GN4mnpqiGSod/ZZG18h8kRUDt3y2bP1my1QylxCGesrsHqaWDDKc76viqJqGVj456eO76eOHpufI+zA2JzgSLXDy2KxiLD+TmCsnoqfEYYcN3klDVgOp6hvjJGSUFpBbrfgdQFY9s+VE4FsjRbRUmHUwDqLCnxYc1xipqeOtip8sERY3oxxNkDWgAaMHBUQf7Lf/tP/wDUsbl6/wBmeHfk7Z7/AJVEgsO2PLhtDQ0nONuzMTNmGyQjPV1W6xeekqHsjirm07btponvkYGxvDn9NpIynMNh8sXKnDgFBT1kVNJiFXiEsNLhNBGd3JWVNUAYml1ju2AEXNjq5jfwgVW/DR/1OxP+zh3/AMnhypnhJUslLBsjtIYZKigwWpppsSZGwymKnqG4e4VRaDYbs0hDXHg+aPUXQTHKRyt7WbM4e7EsY2ewmaJxja2XD66ZzKSSR7A2CujmjzkuDngSwlzQ5gB92COgYH5mtd2gH5xdck+FzyyYPjmz89Dgks2Jkvo6mqqIYJ46Wgh38e68akqI2ZZpZLMbEAXaPJDcuvWtIOg3+y39gQaA8O370UP5Wj/gMUXHi7D8O370UP5Wj/gMUXHiqCIiqCIiAvGtlyMc7sabefqXsozaB5yBg/COvmCBhLi11hfjGO0XDG6H5VJYjUEvY0aNGawHFpA6TSONrm4WHhzTdr9bF44HUgjXhx49a/ZZc07rfgtA1sNT/wBAsu0DyqrBr+svZLfrB6D2jjpYXX5RU9o8oFurhxufL519VA0cRpoGAA8S97GkaeRxWVTjgOFzewJP6RqfnWI9sBjD68AWtGwcO3pLbNLDnaWh5b2cLEf57Fq/YKAvq5XdhDfJoB/ity4TS/JwvfguTr3/AOst3Sj3UM7CpZD0SwNvxyOv+l9lU9vW5HNpg973N6chBAAc73DcrQBoLngeI7FtXEXx00Lpjwa0m5sLho7fmHyrSVVUGaR0shs57i4nsvft/B4Beu2jqnqnyYa04jCLmYWDLI1rozdpuLtfcWLJLa2tcXHC6k6SBl2iMjJla8ZQ1pDTfoPA4O049dgRxWPVzgDtGgLBo55Nwxrf7Zv0uprXnqAOTh8O7BuQ6RxzSEcC4gXA7rABlaOoNAW7LVe2QA6gkh1xe+XQi1rFScFRpd3AeXQn/IsoeKTMRex1tw+XT/PasXEa8ueIGHQavtwvr1W4WVwqaqcQvw0HC4v5B0j5LrBrsUDG3ubnpDtDOrXtJ7TwA7So6smLnshaQAbZjaxsLl2o68rSovE6wvfbRw4AN4XHVrropgYlfWOLxISRcjyfP5dApimlD2hw8vzg2KgsQbpfr42/yFmbOzXa5vYbjzH/ALLKBKoiLJBERAREQEREBERBvHwIvv8Ay/kmr/i8LXaq4O8Fna2gwTF5K3E6jxWmdh1RTNk3c815pKigexmWnje/VkMpva3R46i/T/shNlfjf9TxT6qoyhsOlwWkinlrYqSmirKgMbVVccMTKmpbC0NibUTNaJJgxoDWhxNgAAvHHNmsPrnwzV2H0VZLTOL6SWqp4KiSmeSxxfTvmYXQuLoozdtjeNvYFQvZCbK/G/6nin1VPZCbK/G/6nin1VQXzafZnD8UY2HEqCjxCJjs7I62CGpYx9rZ2CZpDH20uLFeuz2BUeHRCmw+jpaGnBLhBSQxU0Qc73TskLQ3Mes2uVr72Qmyvxv+p4p9VT2Qmyvxv+p4p9VQbDosFpIJpquCkpoaqpyeN1MUMUdRVboFsXjErGh8+RpIGcmwOiU2CUkdRJXR0lLHWztbHUVjIYm1U8cYaI2TTNbvJWNDWgBxIGUW4LXnshNlfjf9TxT6qnshNlfjf9TxT6qg2HhmC0lK+aWmpKanlqX76rlghihkqptfbah0bQ6aTU9J9zqVh7UbIYZiu7OJ4Zh+IGK+5NbTU9UYs+XOI9+x2QOytuBocovwVI9kJsr8b/qeKfVU9kJsr8b/AKnin1VBeZdlMNdUQ1zsOoXVtNGIKWrNNAammhaHhsUEuTPFGBJIA1pAG8fb3Rv4Y/sRhGITMqq/CcNramMBsdRVUlNUTMa0kta2SWMuDQSSBfQm6pvshNlfjf8AU8U+qp7ITZX43/U8U+qoNh0WCUkE01XBSUsNVU5BVVMUMUdRUiFuWEVErGh8wY3RuYmw0CYvgtJWGI1dJTVRp5W1NMamGKc09RH73UQGVp3Uzep7bEdq157ITZX43/U8U+qp7ITZX43/AFPFPqqDZWJ0MNVE+nqYYqinlaY5oJ2Mlhljdo5kkcgLXsI4gghY2F4FR0tOKGlo6WmogHtFHBBDDShspc6VohjaIw17nvJFtS51+K197ITZX43/AFPFPqqeyE2V+N/1PFPqqC37ObBYNhspqMPwbC6GcgtM1JR0tPLkd7pgfDGHBhsOiDbRSeLYHR1joZKujpap9NK2opH1EMU76WoYQWT07pWkwzAtaQ9liLDVa99kJsr8b/qeKfVU9kJsr8b/AKnin1VBtIqs4fye4JTvllgwTCYZKiOSGpfFQ0jHTwzi08MxbEDJFIPdNOjusFVP2Qmyvxv+p4p9VT2Qmyvxv+p4p9VQX7m7Q+K/c3xCj+52TdeIeLweJbq+bd+L5N1u82uXLa6Yhs3QVNM3D6igop6BjY2MopqeCWkYyCwhY2B7DG1rA1uUAWblFrWVB9kJsr8b/qeKfVU9kJsr8b/qeKfVUGxcawilroXUlbS09ZSyZd5TVUUdRTybtzXszxStLH5XsY4XGha09SheUCbEqWkacDw6jr52PYx1DUTCjifRhjw9kMmUsjkuIwA4ZbXVU9kJsr8b/qeKfVU9kJsr8b/qeKfVUFB2p2S2k2uZT4RX7PUOyeAtq4qzFAyvpcQqsQZCcwp6YYexrIcx4ufY3axwd0Sx/SC1b7ITZX43/U8U+qp7ITZX43/U8U+qoKd4dv3oofytH/AYouPF0l4WPKfg2O4bS02FV3jU8WIsqZI9xWQZYG0lfEX5qiFjT05ohYG/S4WBtzaqgiIqgiIgKHxF2Z5cNcnRcO0cTbygqXJUHTPJc4t1N3E34PBOrT/PqVgScZywxH+t7rXUZjxPHgOpYUEvt0uutx1A9v8An5FlSR56du7/AAXOLGuNnE5m+1tvoXX0GovbS9wsOnsJZj2Bululfr0PA3CyuQz3tuw6ZhmZ8hzB3Dr0YeKyaVo4gm/DhbiewXI4LwYQWWN3Xc3iNQMk+nDTXX5F6F4DXOF7NBcctgOiDpxXmLFyV012yzEOPtjzpqXAE2t5ToAFuCigIHA2tck21vppr2kaeZaq5O6JzaYkNIzXkeSD0gwbuJo4EkEGTzgdq2phsDnvikL3We+S8YLmt3bHSlmnB1s0XHs61zJ062mbfFuRaYiIVnlixHdxRUbT05PbZAOIijPRB/tP1/8AaPatWzjS2tu3gfPp/n51J7a414/WTVLTdhdu4DxbuIehG7j7l1nP/wDcKgJZHe4aem45IzYGztC5+uuVrTmsRbMY1u6VOmuGte2ZyysNYC4vcehGXBt9Q6VwAkfpp0WtbH5w/tUk4eUa/Na/Vrw4alYUEbWBrGE2AsOu3G1+03usozho1NiPwbW8pGvk/avRi+ZHCIF56r8dNbG/A+RQeBOL3SSO67gG44fKV+47iBeC0HTXtHbx+f8AQvnA3lsTh0NG3JsL8NeKyhJeRmAMkh4j2ttzY3cLvvbjYED5V54dRE+2O0HVoLW43Av2LGpqxjI2ucA4kuf0h1vJygfJYfIveSokeM8hyNIOWIaEggWv2cFJGPXuBuAb9v8AkcF8bOyWkt3gWnzjUH9H6V+ubfgBrZY+EHLKB5f8bH9qirUiIs0EREBERAREQEREBERAREQEREBERAREQEREBERAREQEREBERAREQEREBERAREQEREBERBh4xKWROI4mzR8p/ksGilbIRdjt4BxiLQXDrOV+jj5iF9bRye5b1XzH/BY1J7WM72gWByg3PHr08l1YGZWFpjMQ1GYta6QiOzyGuDTYltybt42uRwXvs/Qy1TQ3dTSyAuYXsje+YBvFrwATKBYiztR2hbb8EfYiKtnlxbEqaklw1gkipBUneE10JgL5BTvBY9jY5H9Nx0e1tgdSOpqXE6KnIYyOEEaBzWMYQB1NDAABpwt1LR3W/jTnEVz8cx39PVu6GxvqV6o/I9XDeH7K4jKGRjDa18wu7IaWobeNsMri6z2A2AOvEX0vwvDVIaGPtpq1paP67gLeQr+gtVtHSM6T4g6MkCwvceUarXPL5s7Q4rQuFBRMdXjLLTua2zy9jg4sMjgGtBaHdDg45eHFa+n4lW2Yt7vzel/D71iJiJn5NH7KTWjZbSPM6S2uaRsbgbi5s1uWKRvYdToOMztXjrqShnfHmLreLxOzZ3NmqBJG94dwORwJ0sLN04BeWyNOY4zHJmDml4DXNs5rmjI5hBvY5mu7OJ01KqfK/XNvS0jRlPtlRJYBtg0NjjabaZbmX6Mdi9NCYm2HjqcRlTYxlbcZbWy2PAdnEaDjfq0PYvnCbPJmJJBBZDe49rBJc+x4F7iX+YtH4Kxa+VxDYRo6S7ewiIe+m7dC1xsziP8AeLNjmAFmgW4cNNPNot5qM64HDX5bC381GYlUgC1yDc34HydXkK/J57Dj5rDhcEquyPcXEkk3N9VlAyaiXy3Hl/7r68aywzOB0LWsb1avLr2+SyjppNbLKrb7qOMWzSSAi/Do2Df0gqjIoYWxtbNNbNb2qM6kNto4jjdflQXv1cA1vVewJtw0WU2ERHQ7yS3TfcHXrt2BeboQelK+/kHHrUkYwd+Dx+RYkT8kgJ0s/h5L9az5ZuLY22HbbXyqJlBDrnTz9fyLFV2ReVI/Mxru1oP6F6rMEREQREQEREBERAREQEREBERAREQEREBERAREQEREBERAREQEREBERAREQEREBERAREAvoC0HtccrR5XHqCCu44SZTmc2NgsLuIBNgCco4u6+CxZ8VisQ1heQNC/3NwNCWjjwVli2ZE2WXxmIukaXNswOc8D8JgJuI/KLjyr82f2ZbNiNHSyPMsU1ZSwyMIia58Mk8TZW5WO1BYXdV1naMRkr704dQ8i2zDKDDqFlRUFhjhE9RAQ1rn1WIh00rJBwayMStYOsmMcLFWnFMGw8XmMtRfXK1kzmi58o6/OVWttdlZ8XqzFFVfc6na28lUC4SAXAaIGNIzuzBw6RAGUnW4BzdsNlWWDosRqY5CQBuA1kd+8WG4K+e1Y6otaeOZ/19XT3JrWJmeI/z7ozEcMq7tfTVcVQziIqs5JW+Rs0LchH9pnnKm8EfVxD2+It0tZsjHi393q8uir+E4RXsNn1UdS0XyucxkMgA7xa4Nd6IU6TVwssI7t1uRY8fl0K5mpT45bdZzPPDF2ipo6q8jYwypYbiQAAztsQY5NbbwWbZ/XYArl7batfVYjNI6zTHlpQ0aZdxfNYAk3Er5Li99Cum2TG+pvfi0/gk9TiB8y0h4QeyRp3HEqaN25qXtjqsouyCoebGdw/BbKNMwtaR7u+Auh4ZuMW/Tt59v6cjxTa5j9Ssdu8fdrOj9sc6YNu0kBnDSNtwCTYXubu4fhrOa6w4gDz/t+ZfVK4RMDdPLw1HC2nyKPqagDr07Ov9i7zglTUk6Ai1h/m3aoqckG+lu3tXrU1DLaXuf2fMsN02YW6+I8vkWSPppzPCzqsF8kTcokyM3hbewNrcba8T+hR9I4Zrn/us7DsQEdS17m5mOa6Nw7GuIsR5QQ1Ue5qHPAPRb1WaLf91+wEDjx8uvWpDEMNB9ugIc06kC2mv8lFOJB6Qtbjf/FTuPeoudf2edRlYOlfrspNr7j+X7b2URVHpG3VoscKtWCSZoW+S7fmWaonZd3tZHY4/pAUssgREVQREQEU/sPs6zE5KiE1kdJJDQ1dfA18Uk7qyShjdM+kibGQWyOijndm6RAhdZruAxsB2YxHEG7yhw3EK2PX22kpampiBboRvIYyzMD1XvogiUWRiNDNTSGGpgnppwA50NTFJTzNBuAXRzNDwCQdSOorHQEREBERAREQEREBERARF+XQfqIsiloJ5mySRQTyxwNElRJFHJJHTxuNmyTuY0thYToHOIF0GOiIgIiICIiAiIgIiICIiAiIgIiICCkE5bG49Fzhcd4d0+Q9fkui9qJxD2kcb6ec6C3l1WVO5PZM4dG1sjo4wCQRvZP7PuIx29Yt7lvn1WyuS3D2ur6Z8mr2ytdEy2a5a17yfOGxvdfqyrW2Ft3YAv0iS+TyuJzW+QlXrkxx5sOLUUbiAJI64Zjwa9kcTYzrw0dIL/1irq8Um0s9CudSsfF0TtDVxxsvLDBNEW2GntjS618w4gGw4dg7FTsSjwu2dratrtBliqJS1vlDHuc39CbQtkkkyb3LZtwLajjrfgTx0VSqsEpmPM8lRUSy9Q3r4ooweoNjIaPOblfP61eqfR9VozFY/pPtooLh0GIyADV0dVFG9x8gdDk/S0rwxjEHi0fjDXNPA3Lc1uogcFTJ8SmilAiPjUbibtf0QwNtmyS26TwDoDcGx4WKzKGrgqS7dPa6WMgSwnKJYyeGdtz84uFoX07fJ79dfmmaKrJ6iHjRw4aeQjiLdqlY6qCdpp3QiRjwWSiVoMZYdHNcHXDmlVzxpzPk0BOhHmPFZ1FjEbGPe5rhkY5xOhuGAk/JovCaTM8LMx5ufOU6ipo6yeOiDYoI3bpsYLzctNi5r3k31v8AIAqLU07r21Fu3XTtBbxGnYrHW1m+e57iS55c9wI63Enr86wXTahpHDS9+Gq+upE1iI9HxtpzMygybA9fk0N/mXlCTl4D5jfzAdqnJIQ4m4zN6tO0+TgbBYFVQuHSY0uYdMoGazh1ebyrPLFGAW8nEEHiLI94BaeNv5qRlwyQgC7S7XoC5IuLm3UTpw7Viy4a9paLscxwBZLciNweAQbkdHrGvAgq5E1g1W9tix12ni08De/bpdStRDHMBfK134Q0/wC/Uq6/CKuBzWuiLc/uHZmmNx8j2ki9ivqXB52OAkifCXEZZZJA2F5PANla1zC4nqvdMZRly074uIuw9YvYa/tURXNs4kcDZTFfRVVKBn9sjtckXcGHrBuBp5bW8qi5iH6jzEcMp04jiNbKKm9mBZj/AO0D87Wn/FS6jNm2+1X8tj52gA/sUmqCIiqCIiDffJBt74lBS4rjcuH1tLRhmBYRRU9JRTY9SvswGoa8NZLFRNpTI113uMhLBlzOBfhcvu1bH1WIUswx/DcUpaiOmw+mjrw7BTRxP/8ANNp2MjdTGamLZGhue5kj6QAcFTNhaaOtwnF6GOkppcSiFLi1JNug6vdS0smTE4aeT3QDInRyiNurg6fQ6WqO8qcQqG5pJ62sqZIoWPmkfNPUTSFkMDDJM4l7iTGwZjwyjgEVdtitrX4i6LBMenlrcPqXtp6arqHGetwernOSnrKSokvKYN46NskL3FhZewFiHUXGqCSjmnpZwBPTTS00zRewlp3vjkDSRctzMNj1iy2hs5yX4iaWpazBa9m0eH4lRSRuqCyOgkopRJ0WGX/RqoRz0+Z7muIyTMIJAc1VHljqGT4pVzx4jSYsZiyWStoYHUlJLM6Jge2CN0kl2NLQM4e4P1dcklBbse5KcOwo0rsY2kio4qykgqoGxUFTVVGeVpM28jhkIhpYyY7TON5CXgNbkJMdWcj1azGjgLaineGwfdB2IuvHTMwwC766RmYuYA7oZAT0yBmynOPbwm66Gpq8PdTzRTtGz2HRl0L2StbJnr3GMlhID8r2HLxs9vatpYltrQUu0QEtbSx0tfsvTYZ4/wC01NNSVMj55YXVIdmiMOUjM14LfbI81mklEafrdhMPnpaurwPHPuq/D4hU11NLQz4dIaTMWyVtI6aRwmiZxcw2c1tiTcta6J5QtjjhEWGzGoFR90sNgxTKI914uZwHGC+d29DQW9Po316IWydoosdoqOsfW4zspSU81HUU2XD48HNVisczLPo6PxOibMWSjTOS3L0XEC12/O2Wz7dpMMwWqocTwiBlBhUWGYmK+rZSvoZqZsbXPkY5pc6M2kI4EgMLQ4OuCoWl5GXSYvSYIMRGarwlmMeMeLEiMyCceLCPfjP04PfMzdH+501xcN5LIKypjw6gx2lq62Nss2MObTVMeHYVTU7W7+ZtbIQyvDZXCMbsNzFwJyAOI25T43QN2vw6eKvpX0bdmo4WVRliZGS3x97WvJdaOUxFr8h1AcNFpnwecbpKd1bh2IVDKKnxbCZ8L8dk6MdJPKy0b5idGREOkBcSACGXsLkBkScm1BWU9VNgGPNxeooYXVVVRSUFTh80tNH77UURme7ftb3AL6t1u5od9Q8mVFDh2H4zimPMoKOvZK7dsoqisqmysfaOKCOB5MzDGHPfKQ0MIY2zy8Ws3J7gXM81mL4tX4U97sOqKLD6Kgq2Vs1fUVLoS1zWsaC2lbum3e4aCS5DcutZ5UqyF+AbLwxTRSSQ0uJMmYx7HvicZqJrRK1pvGSY32zWvkd2IjOx7kkw/C5Y/uttNTU1FVtZJhdRBRVNTNVwyNY41M8Ub8tDTsMjBnc9wdqRlsbR7ORys+7NTgclTBFHRwmtqsUka4UseHhjHiqLM1w45w3dlws5knSytL1++EVWxTwYGIJopizZyijkET2yGOTI8GN4YTkkuD0TrotqbXbS4dNj2MYdNiFNBT4zgcGGw4jvGSUtPVbmUxNnkY7Kxjm1BJJIHRYPwwg1zs/yUYdixqXYPtIyrjpKWapnbNh9TSVIfG28O7jnkAlppHB4MgN4yGAtdnBE7SbLYE/ZVj343FEx2MNe/FvuPWSTR1DqMB2Gblr9++NoJdvQ7dm3C6y+RrZEbP1FfLiuKYOyokwetgpqamrYqh0kbt1JNUSOs0RRjcRhgd0n55DlG7KrfJ/SsxjZmXAqerooMUhxZuJMp62ojpPGKV1LHCXQOk0e5ry+46sgvbM24Q2GcndHDRwYnjmNNwqnrXSfcyGOinr6ysgiIBq3QxPBp6exa7W+kkeoLmg3jkn2Zgjp9p6Cmxegq6WXCqJ7cVbnhpYoZTiBkfVsdd9PJE1rnPju4gBvWbDCx7Bm7UYbhDMPrsNixDCKQ4TiFBWVUVM+1Puo46umfcsngfuC7O0lpEjdbtIWPsdQ0+E0O1FC7FMNrJX4RSASUcwfA+pc+tbLSU735fGnxufE0uYLXlaNDcAK5i3J5RSYbU4tguNjFmUDoW4jBJQ1GHSxMqHBsdRCKh5c+K5OhA0jk1u0tWuls/knroYsD2njlmijklpcObCx72MfM4T1gIia43kIL2XDb+7b2rWCAiIgIiICIiAiIgIiICIiAiIgIDax6wQR5wbj9iIglnVFmlw42JB7TbiPOqxtdjktLPRTRGz44HPsfws1RMOlbUXEbdf6qki82y9X/a/7FV+UF2d9O/8AB8WEd/60cs2b99p/vL11Ji1cFZms5huXBeXCg3bfGGTslLbOsHua12lz0erzXWWzlRwWRubxktdfUPjqcoB7CYjrcdS5qAWXu7FsehJs51v6w6A89jf+8FzbbKlvX8+ToV8R1a+n5823tv8AlHY5j4KCcTXDX542uZCwtIIsXAOkkBtw07b2savsdXPjGcOcJNOmCQ+/EnNe5JOt1Vo2WzXHANYPKXG518zT86s2AQ9E2Cw1NvWleiGHtFtS/VP8MvF+ULE4pgyOoBa1oJbLHG+5Nzq6wdw8qk8O5TquoY+llgizSxTNM0RczK1sZJJY4m9ybcetUbHIvb5Nbe4FgL/gN1Pk1X1hTcr33A6FNldxNnzSNd8+Un5lsV22niPdjMPP2rVjMdUsiaQtcRe+gHV2LwncRqOv/qF5GQXPbwXmx59yfk/l5VsNZkxznttof5f4le5qMosO9fS/Zp+xYbdQfkH7T/Jfpf13t/nyqYGZvbNDrkPBaQeOodp/nyLI8YYxro3C7HFxDTboFxzZR/VzF3zqPYRdt7ZQQT+0rHklMgceskuHyaj9imFW6lxNj2Mp3C92uyZtbOaLtHkva3yrJmxFhp7P6cbhkeziHNuOI7RcKkw1B6Lm8W2IssypqejYHoOJe0dmb3TfMCf2KYRnYhJI1piDy5sfttM8km8f4cT9elpqL90hQtU0OAlj6LvclvDUD3vzWuW/KOxe7qs2DQb21t2tI6bB+351hxSBriCMzescL2sW+Y9d1lgT2zTwYjbvE+a4H/VSigdl5LuksLNd0gOzXh+kqeVURERBERBl4Nic9FPFV0kz6eqgeJYJ4yA+N4BFxcEEFpc0tcC1zXOaQQSDcpdqcErXb/EMDnpawkSSVGA1jaKGeW9y/wATqoJYqVxNiTC4Akk2BVCRFdAclPK48VBwigbTYRR1EVc9tfjVfVYjNFiPi0jqSqmqKt7YI4jNFEHQNiykyOIJcTm09tbtG2vZTsGG4VQy07ZmTT4ZTR0YrnSvYWyTshAjuwMs3KAPbH2sCGiARB+AIAv1ER+BoHAAIWjjYXX6iD8sOxfqIg/A0DgAPMll+ogmsK2TxCqhNVT0cssHthD27sOl3Dc05gjc4SVWQe6MTXZbG9rLzbsxXeKnEBSS+JBhmM3QHtDX7t1QI829dTCTomYNyAggu0KvXJ3tNhdE3D5JpY4ZKcVTK0SYe6vrHSVL6psc1HVSOLKGjbDPAXMgDJc0M/RkMuZQmJV+HTQwzOrq1k8GEU+DGhpY3QvnfSQtpC51S8GIYZNE0yvicM5Mj2ZdcyCExTY7EKSNs09BNFG58cfBjnslnBdBHNFG4y08rwDlZI1rnW0BUhinJ/X01N4xU08sczq+mwyGkDGTSTzVUVbIWtdDI7LUsdSMjNOW571LL5dA69c+MKpXzz08kMrTiOF4nSUseGvp53wYZXGd1NXV0znz1mIGKQe2SvdFmhe4PvJlEXs1tNheDmN0NXU4j/8AWYsSkBpnwFtJ4hjFG91p32kxBjsQje4aMcWMAedS0KbUbE4k2aOldQTOnmbLJTxx7uffNpmufUiJ0LnMkkja0lzAS5ugIBIB9a/YTFYI3zy0ErYYonVDpQ6B7DBG3NLPCY5D4xExur3RZgwA5stlaRtdR0zGUsM1O6NsOMPL8Ow77l0ranEMImw+kDY3Xnknc8s3khysa0RAZ8pcozBtpqWI4cXueG0mC4th01mE5arEOcG4azvMP3RpbuGgu6/uSiqvVYBVxPnjkppGSUkbZqtrsv8Ao8UhgbG95vbK41NOBYm+9ba6jlsfbbEd3hFEySOaDEsQgpo69szXMdJh2AvqoMLnLZLPy1DZIDnI6X3KaQSCL64RBERAREQEREBERAREQEREBERAREQFi4nRNnaGmwLSXMdYOyl1swIPFpsLjT3I1WUiCs1WDMgY6YjM9vBmpicTYXsekWa3ynzXKgoHHPncbnNmJPXc6q4bRP8Aa3MB6XRcRp7nNb9tlVY2CwJ4X17TpwFuJ8iYEpPBlyMGoe90vXbKAGxkAgEcX/Mrzs3RAMuQqm1l5w0aiNjGg6dbQ93DQnM8i/XZbCwWICMeZaevbN2xpRxlRNpKcCeTtO71Fh/uxx6yvhtJu45J2lrw8wizHAuY2KEZg8fguzOOnHog8CL5m1mUVD72Jyx/hG40I1b1Dh/kqvV1TK1ha15DC67mCxa46dKxHkA+RbcdmvPd4PYXnQ2FtfPfgNR8q8je1utt7HqcBpp5l8+NPIsS21yfcs4kWJ4diCd3k6wNLcdT7lB9tkPEdetv+h4r6dLfQi36NV5GXgC3QXN2mx186eMDUhrr6i9wdT5LedUegdc5fIdV9U0trXHBYjJgOrXyr7ErT5EH6527Jb1dXm4hfYmuMl9L5m+RfjXtcLG1+o3HD519OpesaEdnaFADjcEGxGt+wjgvRzszsxtqNerhofMvMRuHugQe3qP8lmYZh75nC4LYvwncLjsb2kqqldmKYsjLz+Gej/ZHA/Kb/oUuvxrQAABYAWAHAAcAv1EEREBFTOdc/ch9F/rpzrn7kPov9dRcLmipnOufuQ+i/wBdOdc/ch9F/roYXNFTOdc/ch9F/rpzrn7kPov9dDC5oqZzrn7kPov9dOdc/ch9F/roYXNFTOdc/ch9F/rpzrn7kPov9dDC5oqZzrn7kPov9dOdc/ch9F/roYXNFTOdc/ch9F/rpzrn7kPov9dDC5oqZzrn7kPov9dOdc/ch9F/roYXNFTOdc/ch9F/rpzrn7kPov8AXQwuaKmc65+5D6L/AF051z9yH0X+uhhdHEnUkk6C51NgAANeoAAeYBfipnOufuQ+i/1051z9yH0X+uhhc0VM51z9yH0X+unOufuQ+i/10MLmipnOufuQ+i/1051z9yH0X+uhhc0VM51z9yH0X+unOufuQ+i/10MLmipnOufuQ+i/1051z9yH0X+uhhc0VM51z9yH0X+unOufuQ+i/wBdDC5oqZzrn7kPov8AXTnXP3IfRf66GFzRUznXP3IfRf66c65+5D6L/XQwuaKmc65+5D6L/XTnXP3IfRf66GFzRUznXP3IfRf66c65+5D6L/XQwz8ble91gx2UakhpJcSbC9uIDGt8xe7tXjQUJeGsc1zQZGNeSHCzSQCfNYLG511Hch9F/rpzrqO5D6L/AF1l1GE9g4dJI+VwLS97n6gi2Yk63Ww8OLWsALm8B1hae51z9yH0X+uvznVP3IPRf661baGZzl6xqYjC4bXMLp3kAubkiN2lrh/vBbUXB06r9XaqvWwuJ9w+2umU/IvDnXP3IfRf66c65+5D6L/XWxHbDyw+Y6J3cd8oP8l6CjPcf8x/kvnnXP3IfRf66c66juQ+i/10MHiju4/0T/JYviz7noSce67+Syudc/ch9F/rpzrqO5D6L/XQwxDTv4ZH+ToO/kvjxd5/3cgP9hw/wWdzrqO5D6MnrpzrqO5D80nroYYApXkgbuTXQ9B3X8iv5ibwLQbdoBVP511Hch9F/rpzrn7kPov9dDC4CJvdb8wX2qZzrn7kPov9dOdc/ch9F/roYXNFTOdc/ch9F/rpzrn7kPov9dDC5oqZzrn7kPov9dOdc/ch9F/roYQCIiiiIiAiIgIiICIiAiIgIiICIiAiIgIiICIiAiIgIiICIiAiIgIiICIiAiIgIiICIiAiIgIiICIiAiIgIiICIiAiIgIiICIiAiIgIiICIiAiIgIiICIiAiIgIiICIiAiIgIiICIiAiIgIiICIiAiIgIiICIiAiIgIiICIiAiIgIiICIiAiIgIiICIiAiIgIiICIiAiIgIiICIiAiIgIiICIiAiIgIiICIiAiIgIiICIiAiIgIiICIiAiIgIiICIiAiIgIiICIiAiIgIiICIiAiIgIiICIiAiIgIiICIiAiIg/9k=\n"
                },
                "metadata": {}
              }
            ]
          }
        },
        "4cababefde7d4cc79ffd2d8f7b4f443d": {
          "model_module": "@jupyter-widgets/output",
          "model_name": "OutputModel",
          "model_module_version": "1.0.0",
          "state": {
            "_dom_classes": [],
            "_model_module": "@jupyter-widgets/output",
            "_model_module_version": "1.0.0",
            "_model_name": "OutputModel",
            "_view_count": null,
            "_view_module": "@jupyter-widgets/output",
            "_view_module_version": "1.0.0",
            "_view_name": "OutputView",
            "layout": "IPY_MODEL_3033d19a98b04299b88bdbb95cf382e3",
            "msg_id": "",
            "outputs": [
              {
                "output_type": "stream",
                "name": "stdout",
                "text": [
                  "Video available at https://www.bilibili.com/video/BV1mz4y1X7ot\n"
                ]
              },
              {
                "output_type": "display_data",
                "data": {
                  "text/plain": "<__main__.BiliVideo at 0x7f3a7c07c970>",
                  "text/html": "\n        <iframe\n            width=\"854\"\n            height=\"480\"\n            src=\"https://player.bilibili.com/player.html?bvid=BV1mz4y1X7ot&page=1?fs=1\"\n            frameborder=\"0\"\n            allowfullscreen\n        ></iframe>\n        "
                },
                "metadata": {}
              }
            ]
          }
        },
        "35f1952130ee4beab62de1dc780d331b": {
          "model_module": "@jupyter-widgets/base",
          "model_name": "LayoutModel",
          "model_module_version": "1.2.0",
          "state": {
            "_model_module": "@jupyter-widgets/base",
            "_model_module_version": "1.2.0",
            "_model_name": "LayoutModel",
            "_view_count": null,
            "_view_module": "@jupyter-widgets/base",
            "_view_module_version": "1.2.0",
            "_view_name": "LayoutView",
            "align_content": null,
            "align_items": null,
            "align_self": null,
            "border": null,
            "bottom": null,
            "display": null,
            "flex": null,
            "flex_flow": null,
            "grid_area": null,
            "grid_auto_columns": null,
            "grid_auto_flow": null,
            "grid_auto_rows": null,
            "grid_column": null,
            "grid_gap": null,
            "grid_row": null,
            "grid_template_areas": null,
            "grid_template_columns": null,
            "grid_template_rows": null,
            "height": null,
            "justify_content": null,
            "justify_items": null,
            "left": null,
            "margin": null,
            "max_height": null,
            "max_width": null,
            "min_height": null,
            "min_width": null,
            "object_fit": null,
            "object_position": null,
            "order": null,
            "overflow": null,
            "overflow_x": null,
            "overflow_y": null,
            "padding": null,
            "right": null,
            "top": null,
            "visibility": null,
            "width": null
          }
        },
        "4c374f019aba4bd283e3a80198282caa": {
          "model_module": "@jupyter-widgets/base",
          "model_name": "LayoutModel",
          "model_module_version": "1.2.0",
          "state": {
            "_model_module": "@jupyter-widgets/base",
            "_model_module_version": "1.2.0",
            "_model_name": "LayoutModel",
            "_view_count": null,
            "_view_module": "@jupyter-widgets/base",
            "_view_module_version": "1.2.0",
            "_view_name": "LayoutView",
            "align_content": null,
            "align_items": null,
            "align_self": null,
            "border": null,
            "bottom": null,
            "display": null,
            "flex": null,
            "flex_flow": null,
            "grid_area": null,
            "grid_auto_columns": null,
            "grid_auto_flow": null,
            "grid_auto_rows": null,
            "grid_column": null,
            "grid_gap": null,
            "grid_row": null,
            "grid_template_areas": null,
            "grid_template_columns": null,
            "grid_template_rows": null,
            "height": null,
            "justify_content": null,
            "justify_items": null,
            "left": null,
            "margin": null,
            "max_height": null,
            "max_width": null,
            "min_height": null,
            "min_width": null,
            "object_fit": null,
            "object_position": null,
            "order": null,
            "overflow": null,
            "overflow_x": null,
            "overflow_y": null,
            "padding": null,
            "right": null,
            "top": null,
            "visibility": null,
            "width": null
          }
        },
        "3033d19a98b04299b88bdbb95cf382e3": {
          "model_module": "@jupyter-widgets/base",
          "model_name": "LayoutModel",
          "model_module_version": "1.2.0",
          "state": {
            "_model_module": "@jupyter-widgets/base",
            "_model_module_version": "1.2.0",
            "_model_name": "LayoutModel",
            "_view_count": null,
            "_view_module": "@jupyter-widgets/base",
            "_view_module_version": "1.2.0",
            "_view_name": "LayoutView",
            "align_content": null,
            "align_items": null,
            "align_self": null,
            "border": null,
            "bottom": null,
            "display": null,
            "flex": null,
            "flex_flow": null,
            "grid_area": null,
            "grid_auto_columns": null,
            "grid_auto_flow": null,
            "grid_auto_rows": null,
            "grid_column": null,
            "grid_gap": null,
            "grid_row": null,
            "grid_template_areas": null,
            "grid_template_columns": null,
            "grid_template_rows": null,
            "height": null,
            "justify_content": null,
            "justify_items": null,
            "left": null,
            "margin": null,
            "max_height": null,
            "max_width": null,
            "min_height": null,
            "min_width": null,
            "object_fit": null,
            "object_position": null,
            "order": null,
            "overflow": null,
            "overflow_x": null,
            "overflow_y": null,
            "padding": null,
            "right": null,
            "top": null,
            "visibility": null,
            "width": null
          }
        },
        "7824c850467a4553beca8fb1d287f85d": {
          "model_module": "@jupyter-widgets/controls",
          "model_name": "TabModel",
          "model_module_version": "1.5.0",
          "state": {
            "_dom_classes": [],
            "_model_module": "@jupyter-widgets/controls",
            "_model_module_version": "1.5.0",
            "_model_name": "TabModel",
            "_titles": {
              "0": "Youtube",
              "1": "Bilibili"
            },
            "_view_count": null,
            "_view_module": "@jupyter-widgets/controls",
            "_view_module_version": "1.5.0",
            "_view_name": "TabView",
            "box_style": "",
            "children": [
              "IPY_MODEL_2a26007b08da4f079f0c878b7346d998",
              "IPY_MODEL_4076f41ab1144a7f9c73f8557229e035"
            ],
            "layout": "IPY_MODEL_dd3cde412854461dbf1a433523074511",
            "selected_index": 0
          }
        },
        "2a26007b08da4f079f0c878b7346d998": {
          "model_module": "@jupyter-widgets/output",
          "model_name": "OutputModel",
          "model_module_version": "1.0.0",
          "state": {
            "_dom_classes": [],
            "_model_module": "@jupyter-widgets/output",
            "_model_module_version": "1.0.0",
            "_model_name": "OutputModel",
            "_view_count": null,
            "_view_module": "@jupyter-widgets/output",
            "_view_module_version": "1.0.0",
            "_view_name": "OutputView",
            "layout": "IPY_MODEL_673e8276b39c407d866b90d82ab93930",
            "msg_id": "",
            "outputs": [
              {
                "output_type": "stream",
                "name": "stdout",
                "text": [
                  "Video available at https://youtube.com/watch?v=oHwYWUI_o1U\n"
                ]
              },
              {
                "output_type": "display_data",
                "data": {
                  "text/plain": "<IPython.lib.display.YouTubeVideo at 0x7f3a65d36c40>",
                  "text/html": "\n        <iframe\n            width=\"854\"\n            height=\"480\"\n            src=\"https://www.youtube.com/embed/oHwYWUI_o1U?fs=1&rel=0\"\n            frameborder=\"0\"\n            allowfullscreen\n        ></iframe>\n        ",
                  "image/jpeg": "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\n"
                },
                "metadata": {}
              }
            ]
          }
        },
        "4076f41ab1144a7f9c73f8557229e035": {
          "model_module": "@jupyter-widgets/output",
          "model_name": "OutputModel",
          "model_module_version": "1.0.0",
          "state": {
            "_dom_classes": [],
            "_model_module": "@jupyter-widgets/output",
            "_model_module_version": "1.0.0",
            "_model_name": "OutputModel",
            "_view_count": null,
            "_view_module": "@jupyter-widgets/output",
            "_view_module_version": "1.0.0",
            "_view_name": "OutputView",
            "layout": "IPY_MODEL_8fa397ea94964547a696d3f261f3946a",
            "msg_id": "",
            "outputs": [
              {
                "output_type": "stream",
                "name": "stdout",
                "text": [
                  "Video available at https://www.bilibili.com/video/BV1Hp4y1S7Au\n"
                ]
              },
              {
                "output_type": "display_data",
                "data": {
                  "text/plain": "<__main__.BiliVideo at 0x7f3a65d36c10>",
                  "text/html": "\n        <iframe\n            width=\"854\"\n            height=\"480\"\n            src=\"https://player.bilibili.com/player.html?bvid=BV1Hp4y1S7Au&page=1?fs=1\"\n            frameborder=\"0\"\n            allowfullscreen\n        ></iframe>\n        "
                },
                "metadata": {}
              }
            ]
          }
        },
        "dd3cde412854461dbf1a433523074511": {
          "model_module": "@jupyter-widgets/base",
          "model_name": "LayoutModel",
          "model_module_version": "1.2.0",
          "state": {
            "_model_module": "@jupyter-widgets/base",
            "_model_module_version": "1.2.0",
            "_model_name": "LayoutModel",
            "_view_count": null,
            "_view_module": "@jupyter-widgets/base",
            "_view_module_version": "1.2.0",
            "_view_name": "LayoutView",
            "align_content": null,
            "align_items": null,
            "align_self": null,
            "border": null,
            "bottom": null,
            "display": null,
            "flex": null,
            "flex_flow": null,
            "grid_area": null,
            "grid_auto_columns": null,
            "grid_auto_flow": null,
            "grid_auto_rows": null,
            "grid_column": null,
            "grid_gap": null,
            "grid_row": null,
            "grid_template_areas": null,
            "grid_template_columns": null,
            "grid_template_rows": null,
            "height": null,
            "justify_content": null,
            "justify_items": null,
            "left": null,
            "margin": null,
            "max_height": null,
            "max_width": null,
            "min_height": null,
            "min_width": null,
            "object_fit": null,
            "object_position": null,
            "order": null,
            "overflow": null,
            "overflow_x": null,
            "overflow_y": null,
            "padding": null,
            "right": null,
            "top": null,
            "visibility": null,
            "width": null
          }
        },
        "673e8276b39c407d866b90d82ab93930": {
          "model_module": "@jupyter-widgets/base",
          "model_name": "LayoutModel",
          "model_module_version": "1.2.0",
          "state": {
            "_model_module": "@jupyter-widgets/base",
            "_model_module_version": "1.2.0",
            "_model_name": "LayoutModel",
            "_view_count": null,
            "_view_module": "@jupyter-widgets/base",
            "_view_module_version": "1.2.0",
            "_view_name": "LayoutView",
            "align_content": null,
            "align_items": null,
            "align_self": null,
            "border": null,
            "bottom": null,
            "display": null,
            "flex": null,
            "flex_flow": null,
            "grid_area": null,
            "grid_auto_columns": null,
            "grid_auto_flow": null,
            "grid_auto_rows": null,
            "grid_column": null,
            "grid_gap": null,
            "grid_row": null,
            "grid_template_areas": null,
            "grid_template_columns": null,
            "grid_template_rows": null,
            "height": null,
            "justify_content": null,
            "justify_items": null,
            "left": null,
            "margin": null,
            "max_height": null,
            "max_width": null,
            "min_height": null,
            "min_width": null,
            "object_fit": null,
            "object_position": null,
            "order": null,
            "overflow": null,
            "overflow_x": null,
            "overflow_y": null,
            "padding": null,
            "right": null,
            "top": null,
            "visibility": null,
            "width": null
          }
        },
        "8fa397ea94964547a696d3f261f3946a": {
          "model_module": "@jupyter-widgets/base",
          "model_name": "LayoutModel",
          "model_module_version": "1.2.0",
          "state": {
            "_model_module": "@jupyter-widgets/base",
            "_model_module_version": "1.2.0",
            "_model_name": "LayoutModel",
            "_view_count": null,
            "_view_module": "@jupyter-widgets/base",
            "_view_module_version": "1.2.0",
            "_view_name": "LayoutView",
            "align_content": null,
            "align_items": null,
            "align_self": null,
            "border": null,
            "bottom": null,
            "display": null,
            "flex": null,
            "flex_flow": null,
            "grid_area": null,
            "grid_auto_columns": null,
            "grid_auto_flow": null,
            "grid_auto_rows": null,
            "grid_column": null,
            "grid_gap": null,
            "grid_row": null,
            "grid_template_areas": null,
            "grid_template_columns": null,
            "grid_template_rows": null,
            "height": null,
            "justify_content": null,
            "justify_items": null,
            "left": null,
            "margin": null,
            "max_height": null,
            "max_width": null,
            "min_height": null,
            "min_width": null,
            "object_fit": null,
            "object_position": null,
            "order": null,
            "overflow": null,
            "overflow_x": null,
            "overflow_y": null,
            "padding": null,
            "right": null,
            "top": null,
            "visibility": null,
            "width": null
          }
        },
        "293f4965ff9948f38d4c543ab345ed17": {
          "model_module": "@jupyter-widgets/controls",
          "model_name": "TabModel",
          "model_module_version": "1.5.0",
          "state": {
            "_dom_classes": [],
            "_model_module": "@jupyter-widgets/controls",
            "_model_module_version": "1.5.0",
            "_model_name": "TabModel",
            "_titles": {
              "0": "Youtube",
              "1": "Bilibili"
            },
            "_view_count": null,
            "_view_module": "@jupyter-widgets/controls",
            "_view_module_version": "1.5.0",
            "_view_name": "TabView",
            "box_style": "",
            "children": [
              "IPY_MODEL_084f284cb57245cabeb00f48abffbe5e",
              "IPY_MODEL_462c9005b753443aa337a5b123fc85cf"
            ],
            "layout": "IPY_MODEL_9e3c6517a8304b15a8f86058dc3d1299",
            "selected_index": 0
          }
        },
        "084f284cb57245cabeb00f48abffbe5e": {
          "model_module": "@jupyter-widgets/output",
          "model_name": "OutputModel",
          "model_module_version": "1.0.0",
          "state": {
            "_dom_classes": [],
            "_model_module": "@jupyter-widgets/output",
            "_model_module_version": "1.0.0",
            "_model_name": "OutputModel",
            "_view_count": null,
            "_view_module": "@jupyter-widgets/output",
            "_view_module_version": "1.0.0",
            "_view_name": "OutputView",
            "layout": "IPY_MODEL_d17a409098db4ebba702f2a081434b17",
            "msg_id": "",
            "outputs": [
              {
                "output_type": "stream",
                "name": "stdout",
                "text": [
                  "Video available at https://youtube.com/watch?v=QGA5FCW7kkA\n"
                ]
              },
              {
                "output_type": "display_data",
                "data": {
                  "text/plain": "<IPython.lib.display.YouTubeVideo at 0x7f3a65128a90>",
                  "text/html": "\n        <iframe\n            width=\"854\"\n            height=\"480\"\n            src=\"https://www.youtube.com/embed/QGA5FCW7kkA?fs=1&rel=0\"\n            frameborder=\"0\"\n            allowfullscreen\n        ></iframe>\n        ",
                  "image/jpeg": "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\n"
                },
                "metadata": {}
              }
            ]
          }
        },
        "462c9005b753443aa337a5b123fc85cf": {
          "model_module": "@jupyter-widgets/output",
          "model_name": "OutputModel",
          "model_module_version": "1.0.0",
          "state": {
            "_dom_classes": [],
            "_model_module": "@jupyter-widgets/output",
            "_model_module_version": "1.0.0",
            "_model_name": "OutputModel",
            "_view_count": null,
            "_view_module": "@jupyter-widgets/output",
            "_view_module_version": "1.0.0",
            "_view_name": "OutputView",
            "layout": "IPY_MODEL_f76076ccbf6949f5a42f62de75ffcd05",
            "msg_id": "",
            "outputs": [
              {
                "output_type": "stream",
                "name": "stdout",
                "text": [
                  "Video available at https://www.bilibili.com/video/BV1dt4y1Q7C5\n"
                ]
              },
              {
                "output_type": "display_data",
                "data": {
                  "text/plain": "<__main__.BiliVideo at 0x7f3a65128df0>",
                  "text/html": "\n        <iframe\n            width=\"854\"\n            height=\"480\"\n            src=\"https://player.bilibili.com/player.html?bvid=BV1dt4y1Q7C5&page=1?fs=1\"\n            frameborder=\"0\"\n            allowfullscreen\n        ></iframe>\n        "
                },
                "metadata": {}
              }
            ]
          }
        },
        "9e3c6517a8304b15a8f86058dc3d1299": {
          "model_module": "@jupyter-widgets/base",
          "model_name": "LayoutModel",
          "model_module_version": "1.2.0",
          "state": {
            "_model_module": "@jupyter-widgets/base",
            "_model_module_version": "1.2.0",
            "_model_name": "LayoutModel",
            "_view_count": null,
            "_view_module": "@jupyter-widgets/base",
            "_view_module_version": "1.2.0",
            "_view_name": "LayoutView",
            "align_content": null,
            "align_items": null,
            "align_self": null,
            "border": null,
            "bottom": null,
            "display": null,
            "flex": null,
            "flex_flow": null,
            "grid_area": null,
            "grid_auto_columns": null,
            "grid_auto_flow": null,
            "grid_auto_rows": null,
            "grid_column": null,
            "grid_gap": null,
            "grid_row": null,
            "grid_template_areas": null,
            "grid_template_columns": null,
            "grid_template_rows": null,
            "height": null,
            "justify_content": null,
            "justify_items": null,
            "left": null,
            "margin": null,
            "max_height": null,
            "max_width": null,
            "min_height": null,
            "min_width": null,
            "object_fit": null,
            "object_position": null,
            "order": null,
            "overflow": null,
            "overflow_x": null,
            "overflow_y": null,
            "padding": null,
            "right": null,
            "top": null,
            "visibility": null,
            "width": null
          }
        },
        "d17a409098db4ebba702f2a081434b17": {
          "model_module": "@jupyter-widgets/base",
          "model_name": "LayoutModel",
          "model_module_version": "1.2.0",
          "state": {
            "_model_module": "@jupyter-widgets/base",
            "_model_module_version": "1.2.0",
            "_model_name": "LayoutModel",
            "_view_count": null,
            "_view_module": "@jupyter-widgets/base",
            "_view_module_version": "1.2.0",
            "_view_name": "LayoutView",
            "align_content": null,
            "align_items": null,
            "align_self": null,
            "border": null,
            "bottom": null,
            "display": null,
            "flex": null,
            "flex_flow": null,
            "grid_area": null,
            "grid_auto_columns": null,
            "grid_auto_flow": null,
            "grid_auto_rows": null,
            "grid_column": null,
            "grid_gap": null,
            "grid_row": null,
            "grid_template_areas": null,
            "grid_template_columns": null,
            "grid_template_rows": null,
            "height": null,
            "justify_content": null,
            "justify_items": null,
            "left": null,
            "margin": null,
            "max_height": null,
            "max_width": null,
            "min_height": null,
            "min_width": null,
            "object_fit": null,
            "object_position": null,
            "order": null,
            "overflow": null,
            "overflow_x": null,
            "overflow_y": null,
            "padding": null,
            "right": null,
            "top": null,
            "visibility": null,
            "width": null
          }
        },
        "f76076ccbf6949f5a42f62de75ffcd05": {
          "model_module": "@jupyter-widgets/base",
          "model_name": "LayoutModel",
          "model_module_version": "1.2.0",
          "state": {
            "_model_module": "@jupyter-widgets/base",
            "_model_module_version": "1.2.0",
            "_model_name": "LayoutModel",
            "_view_count": null,
            "_view_module": "@jupyter-widgets/base",
            "_view_module_version": "1.2.0",
            "_view_name": "LayoutView",
            "align_content": null,
            "align_items": null,
            "align_self": null,
            "border": null,
            "bottom": null,
            "display": null,
            "flex": null,
            "flex_flow": null,
            "grid_area": null,
            "grid_auto_columns": null,
            "grid_auto_flow": null,
            "grid_auto_rows": null,
            "grid_column": null,
            "grid_gap": null,
            "grid_row": null,
            "grid_template_areas": null,
            "grid_template_columns": null,
            "grid_template_rows": null,
            "height": null,
            "justify_content": null,
            "justify_items": null,
            "left": null,
            "margin": null,
            "max_height": null,
            "max_width": null,
            "min_height": null,
            "min_width": null,
            "object_fit": null,
            "object_position": null,
            "order": null,
            "overflow": null,
            "overflow_x": null,
            "overflow_y": null,
            "padding": null,
            "right": null,
            "top": null,
            "visibility": null,
            "width": null
          }
        },
        "aa6f2cde236841458931336c9cec8b7d": {
          "model_module": "@jupyter-widgets/controls",
          "model_name": "TabModel",
          "model_module_version": "1.5.0",
          "state": {
            "_dom_classes": [],
            "_model_module": "@jupyter-widgets/controls",
            "_model_module_version": "1.5.0",
            "_model_name": "TabModel",
            "_titles": {
              "0": "Youtube",
              "1": "Bilibili"
            },
            "_view_count": null,
            "_view_module": "@jupyter-widgets/controls",
            "_view_module_version": "1.5.0",
            "_view_name": "TabView",
            "box_style": "",
            "children": [
              "IPY_MODEL_2ea1c26af0064f0695b8b00c7c14c9d5",
              "IPY_MODEL_cc0ec4c1d7ed4c469e4c5bee2f9bae56"
            ],
            "layout": "IPY_MODEL_aeb0e82229844f55972504c746706593",
            "selected_index": 0
          }
        },
        "2ea1c26af0064f0695b8b00c7c14c9d5": {
          "model_module": "@jupyter-widgets/output",
          "model_name": "OutputModel",
          "model_module_version": "1.0.0",
          "state": {
            "_dom_classes": [],
            "_model_module": "@jupyter-widgets/output",
            "_model_module_version": "1.0.0",
            "_model_name": "OutputModel",
            "_view_count": null,
            "_view_module": "@jupyter-widgets/output",
            "_view_module_version": "1.0.0",
            "_view_name": "OutputView",
            "layout": "IPY_MODEL_5dc1bc5ffb0d42b981a8cd06642bba64",
            "msg_id": "",
            "outputs": [
              {
                "output_type": "stream",
                "name": "stdout",
                "text": [
                  "Video available at https://youtube.com/watch?v=DHhM80MOTe8\n"
                ]
              },
              {
                "output_type": "display_data",
                "data": {
                  "text/plain": "<IPython.lib.display.YouTubeVideo at 0x7f3a49c25760>",
                  "text/html": "\n        <iframe\n            width=\"854\"\n            height=\"480\"\n            src=\"https://www.youtube.com/embed/DHhM80MOTe8?fs=1&rel=0\"\n            frameborder=\"0\"\n            allowfullscreen\n        ></iframe>\n        ",
                  "image/jpeg": "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\n"
                },
                "metadata": {}
              }
            ]
          }
        },
        "cc0ec4c1d7ed4c469e4c5bee2f9bae56": {
          "model_module": "@jupyter-widgets/output",
          "model_name": "OutputModel",
          "model_module_version": "1.0.0",
          "state": {
            "_dom_classes": [],
            "_model_module": "@jupyter-widgets/output",
            "_model_module_version": "1.0.0",
            "_model_name": "OutputModel",
            "_view_count": null,
            "_view_module": "@jupyter-widgets/output",
            "_view_module_version": "1.0.0",
            "_view_name": "OutputView",
            "layout": "IPY_MODEL_90f72f6630ad4e8da9d1c45126288293",
            "msg_id": "",
            "outputs": [
              {
                "output_type": "stream",
                "name": "stdout",
                "text": [
                  "Video available at https://www.bilibili.com/video/BV1ov411B7Pm\n"
                ]
              },
              {
                "output_type": "display_data",
                "data": {
                  "text/plain": "<__main__.BiliVideo at 0x7f3a49c10400>",
                  "text/html": "\n        <iframe\n            width=\"854\"\n            height=\"480\"\n            src=\"https://player.bilibili.com/player.html?bvid=BV1ov411B7Pm&page=1?fs=1\"\n            frameborder=\"0\"\n            allowfullscreen\n        ></iframe>\n        "
                },
                "metadata": {}
              }
            ]
          }
        },
        "aeb0e82229844f55972504c746706593": {
          "model_module": "@jupyter-widgets/base",
          "model_name": "LayoutModel",
          "model_module_version": "1.2.0",
          "state": {
            "_model_module": "@jupyter-widgets/base",
            "_model_module_version": "1.2.0",
            "_model_name": "LayoutModel",
            "_view_count": null,
            "_view_module": "@jupyter-widgets/base",
            "_view_module_version": "1.2.0",
            "_view_name": "LayoutView",
            "align_content": null,
            "align_items": null,
            "align_self": null,
            "border": null,
            "bottom": null,
            "display": null,
            "flex": null,
            "flex_flow": null,
            "grid_area": null,
            "grid_auto_columns": null,
            "grid_auto_flow": null,
            "grid_auto_rows": null,
            "grid_column": null,
            "grid_gap": null,
            "grid_row": null,
            "grid_template_areas": null,
            "grid_template_columns": null,
            "grid_template_rows": null,
            "height": null,
            "justify_content": null,
            "justify_items": null,
            "left": null,
            "margin": null,
            "max_height": null,
            "max_width": null,
            "min_height": null,
            "min_width": null,
            "object_fit": null,
            "object_position": null,
            "order": null,
            "overflow": null,
            "overflow_x": null,
            "overflow_y": null,
            "padding": null,
            "right": null,
            "top": null,
            "visibility": null,
            "width": null
          }
        },
        "5dc1bc5ffb0d42b981a8cd06642bba64": {
          "model_module": "@jupyter-widgets/base",
          "model_name": "LayoutModel",
          "model_module_version": "1.2.0",
          "state": {
            "_model_module": "@jupyter-widgets/base",
            "_model_module_version": "1.2.0",
            "_model_name": "LayoutModel",
            "_view_count": null,
            "_view_module": "@jupyter-widgets/base",
            "_view_module_version": "1.2.0",
            "_view_name": "LayoutView",
            "align_content": null,
            "align_items": null,
            "align_self": null,
            "border": null,
            "bottom": null,
            "display": null,
            "flex": null,
            "flex_flow": null,
            "grid_area": null,
            "grid_auto_columns": null,
            "grid_auto_flow": null,
            "grid_auto_rows": null,
            "grid_column": null,
            "grid_gap": null,
            "grid_row": null,
            "grid_template_areas": null,
            "grid_template_columns": null,
            "grid_template_rows": null,
            "height": null,
            "justify_content": null,
            "justify_items": null,
            "left": null,
            "margin": null,
            "max_height": null,
            "max_width": null,
            "min_height": null,
            "min_width": null,
            "object_fit": null,
            "object_position": null,
            "order": null,
            "overflow": null,
            "overflow_x": null,
            "overflow_y": null,
            "padding": null,
            "right": null,
            "top": null,
            "visibility": null,
            "width": null
          }
        },
        "90f72f6630ad4e8da9d1c45126288293": {
          "model_module": "@jupyter-widgets/base",
          "model_name": "LayoutModel",
          "model_module_version": "1.2.0",
          "state": {
            "_model_module": "@jupyter-widgets/base",
            "_model_module_version": "1.2.0",
            "_model_name": "LayoutModel",
            "_view_count": null,
            "_view_module": "@jupyter-widgets/base",
            "_view_module_version": "1.2.0",
            "_view_name": "LayoutView",
            "align_content": null,
            "align_items": null,
            "align_self": null,
            "border": null,
            "bottom": null,
            "display": null,
            "flex": null,
            "flex_flow": null,
            "grid_area": null,
            "grid_auto_columns": null,
            "grid_auto_flow": null,
            "grid_auto_rows": null,
            "grid_column": null,
            "grid_gap": null,
            "grid_row": null,
            "grid_template_areas": null,
            "grid_template_columns": null,
            "grid_template_rows": null,
            "height": null,
            "justify_content": null,
            "justify_items": null,
            "left": null,
            "margin": null,
            "max_height": null,
            "max_width": null,
            "min_height": null,
            "min_width": null,
            "object_fit": null,
            "object_position": null,
            "order": null,
            "overflow": null,
            "overflow_x": null,
            "overflow_y": null,
            "padding": null,
            "right": null,
            "top": null,
            "visibility": null,
            "width": null
          }
        },
        "7cb8494fc8c243f181b70ec01ef8b7f9": {
          "model_module": "@jupyter-widgets/controls",
          "model_name": "VBoxModel",
          "model_module_version": "1.5.0",
          "state": {
            "_dom_classes": [
              "widget-interact"
            ],
            "_model_module": "@jupyter-widgets/controls",
            "_model_module_version": "1.5.0",
            "_model_name": "VBoxModel",
            "_view_count": null,
            "_view_module": "@jupyter-widgets/controls",
            "_view_module_version": "1.5.0",
            "_view_name": "VBoxView",
            "box_style": "",
            "children": [
              "IPY_MODEL_d591c676bdd443288126ccad7cb06363",
              "IPY_MODEL_253cc049deb24b5099bbb64e64c38616",
              "IPY_MODEL_39d683d33ea9435b901617f691870d18",
              "IPY_MODEL_4578dcb0a84a4cbebf26c7f51f5da9d4",
              "IPY_MODEL_fd2cf442b0254a13a518092d0a52c4e8",
              "IPY_MODEL_66274247603b4627bba8a585dd7fc9e5",
              "IPY_MODEL_a552bf3c9a284d269e8f090beb7454ca",
              "IPY_MODEL_2e31a315b6614fee95318497e3236e72"
            ],
            "layout": "IPY_MODEL_b0c86ff43d7044dcae63f9b173453273"
          }
        },
        "d591c676bdd443288126ccad7cb06363": {
          "model_module": "@jupyter-widgets/controls",
          "model_name": "FloatSliderModel",
          "model_module_version": "1.5.0",
          "state": {
            "_dom_classes": [],
            "_model_module": "@jupyter-widgets/controls",
            "_model_module_version": "1.5.0",
            "_model_name": "FloatSliderModel",
            "_view_count": null,
            "_view_module": "@jupyter-widgets/controls",
            "_view_module_version": "1.5.0",
            "_view_name": "FloatSliderView",
            "continuous_update": true,
            "description": "exp_scale",
            "description_tooltip": null,
            "disabled": false,
            "layout": "IPY_MODEL_d1b13bb586b148edb622f77fcbdc1cf0",
            "max": 20000,
            "min": 0,
            "orientation": "horizontal",
            "readout": true,
            "readout_format": ".2f",
            "step": 250,
            "style": "IPY_MODEL_4eff601398c64ac3846424c0450c5b08",
            "value": 9250
          }
        },
        "253cc049deb24b5099bbb64e64c38616": {
          "model_module": "@jupyter-widgets/controls",
          "model_name": "FloatSliderModel",
          "model_module_version": "1.5.0",
          "state": {
            "_dom_classes": [],
            "_model_module": "@jupyter-widgets/controls",
            "_model_module_version": "1.5.0",
            "_model_name": "FloatSliderModel",
            "_view_count": null,
            "_view_module": "@jupyter-widgets/controls",
            "_view_module_version": "1.5.0",
            "_view_name": "FloatSliderView",
            "continuous_update": true,
            "description": "exp_rate",
            "description_tooltip": null,
            "disabled": false,
            "layout": "IPY_MODEL_8d218e46b7a94ddaa1e0e09fa786fde8",
            "max": 50,
            "min": -200,
            "orientation": "horizontal",
            "readout": true,
            "readout_format": ".2f",
            "step": 1,
            "style": "IPY_MODEL_7a7525952f1047629957a30b05079235",
            "value": -40
          }
        },
        "39d683d33ea9435b901617f691870d18": {
          "model_module": "@jupyter-widgets/controls",
          "model_name": "FloatSliderModel",
          "model_module_version": "1.5.0",
          "state": {
            "_dom_classes": [],
            "_model_module": "@jupyter-widgets/controls",
            "_model_module_version": "1.5.0",
            "_model_name": "FloatSliderModel",
            "_view_count": null,
            "_view_module": "@jupyter-widgets/controls",
            "_view_module_version": "1.5.0",
            "_view_name": "FloatSliderView",
            "continuous_update": true,
            "description": "exp_x0",
            "description_tooltip": null,
            "disabled": false,
            "layout": "IPY_MODEL_1b33e93f4d714b5380e72e29e432cc17",
            "max": 0.5,
            "min": -0.5,
            "orientation": "horizontal",
            "readout": true,
            "readout_format": ".2f",
            "step": 0.005,
            "style": "IPY_MODEL_f9094253c95a466b9cd2fc6ce2099d93",
            "value": 0.04
          }
        },
        "4578dcb0a84a4cbebf26c7f51f5da9d4": {
          "model_module": "@jupyter-widgets/controls",
          "model_name": "FloatSliderModel",
          "model_module_version": "1.5.0",
          "state": {
            "_dom_classes": [],
            "_model_module": "@jupyter-widgets/controls",
            "_model_module_version": "1.5.0",
            "_model_name": "FloatSliderModel",
            "_view_count": null,
            "_view_module": "@jupyter-widgets/controls",
            "_view_module_version": "1.5.0",
            "_view_name": "FloatSliderView",
            "continuous_update": true,
            "description": "inv_scale",
            "description_tooltip": null,
            "disabled": false,
            "layout": "IPY_MODEL_367a2af0f6824d3f8aafcd4b386271f6",
            "max": 300,
            "min": 0,
            "orientation": "horizontal",
            "readout": true,
            "readout_format": ".2f",
            "step": 10,
            "style": "IPY_MODEL_c376e9000815420a8857dc0448cf138c",
            "value": 140
          }
        },
        "fd2cf442b0254a13a518092d0a52c4e8": {
          "model_module": "@jupyter-widgets/controls",
          "model_name": "FloatSliderModel",
          "model_module_version": "1.5.0",
          "state": {
            "_dom_classes": [],
            "_model_module": "@jupyter-widgets/controls",
            "_model_module_version": "1.5.0",
            "_model_name": "FloatSliderModel",
            "_view_count": null,
            "_view_module": "@jupyter-widgets/controls",
            "_view_module_version": "1.5.0",
            "_view_name": "FloatSliderView",
            "continuous_update": true,
            "description": "inv_x0",
            "description_tooltip": null,
            "disabled": false,
            "layout": "IPY_MODEL_31bb6a6714bd4107929f9ff60ae25309",
            "max": 0.2,
            "min": -0.2,
            "orientation": "horizontal",
            "readout": true,
            "readout_format": ".2f",
            "step": 0.01,
            "style": "IPY_MODEL_f790c74b95a945c38c73d4a4e479bd46",
            "value": 0
          }
        },
        "66274247603b4627bba8a585dd7fc9e5": {
          "model_module": "@jupyter-widgets/controls",
          "model_name": "FloatSliderModel",
          "model_module_version": "1.5.0",
          "state": {
            "_dom_classes": [],
            "_model_module": "@jupyter-widgets/controls",
            "_model_module_version": "1.5.0",
            "_model_name": "FloatSliderModel",
            "_view_count": null,
            "_view_module": "@jupyter-widgets/controls",
            "_view_module_version": "1.5.0",
            "_view_name": "FloatSliderView",
            "continuous_update": true,
            "description": "lin_slope",
            "description_tooltip": null,
            "disabled": false,
            "layout": "IPY_MODEL_17249eeefdbf402cb66ad380a06aae40",
            "max": 100000,
            "min": -600000,
            "orientation": "horizontal",
            "readout": true,
            "readout_format": ".2f",
            "step": 10000,
            "style": "IPY_MODEL_03c060fdc16a4ffdb5915d9163648535",
            "value": -330000
          }
        },
        "a552bf3c9a284d269e8f090beb7454ca": {
          "model_module": "@jupyter-widgets/controls",
          "model_name": "FloatSliderModel",
          "model_module_version": "1.5.0",
          "state": {
            "_dom_classes": [],
            "_model_module": "@jupyter-widgets/controls",
            "_model_module_version": "1.5.0",
            "_model_name": "FloatSliderModel",
            "_view_count": null,
            "_view_module": "@jupyter-widgets/controls",
            "_view_module_version": "1.5.0",
            "_view_name": "FloatSliderView",
            "continuous_update": true,
            "description": "lin_y0",
            "description_tooltip": null,
            "disabled": false,
            "layout": "IPY_MODEL_f0b883d448c64194865d685074c9fca4",
            "max": 40000,
            "min": 0,
            "orientation": "horizontal",
            "readout": true,
            "readout_format": ".2f",
            "step": 1000,
            "style": "IPY_MODEL_be89a2939c144d8c8bebb3f6e780c08c",
            "value": 19000
          }
        },
        "2e31a315b6614fee95318497e3236e72": {
          "model_module": "@jupyter-widgets/output",
          "model_name": "OutputModel",
          "model_module_version": "1.0.0",
          "state": {
            "_dom_classes": [],
            "_model_module": "@jupyter-widgets/output",
            "_model_module_version": "1.0.0",
            "_model_name": "OutputModel",
            "_view_count": null,
            "_view_module": "@jupyter-widgets/output",
            "_view_module_version": "1.0.0",
            "_view_name": "OutputView",
            "layout": "IPY_MODEL_5d096a1c87d741f88e541658291af63d",
            "msg_id": "",
            "outputs": [
              {
                "output_type": "display_data",
                "data": {
                  "text/plain": "<Figure size 576x432 with 1 Axes>",
                  "image/png": "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\n"
                },
                "metadata": {
                  "image/png": {
                    "width": 558,
                    "height": 413
                  },
                  "needs_background": "light"
                }
              }
            ]
          }
        },
        "b0c86ff43d7044dcae63f9b173453273": {
          "model_module": "@jupyter-widgets/base",
          "model_name": "LayoutModel",
          "model_module_version": "1.2.0",
          "state": {
            "_model_module": "@jupyter-widgets/base",
            "_model_module_version": "1.2.0",
            "_model_name": "LayoutModel",
            "_view_count": null,
            "_view_module": "@jupyter-widgets/base",
            "_view_module_version": "1.2.0",
            "_view_name": "LayoutView",
            "align_content": null,
            "align_items": null,
            "align_self": null,
            "border": null,
            "bottom": null,
            "display": null,
            "flex": null,
            "flex_flow": null,
            "grid_area": null,
            "grid_auto_columns": null,
            "grid_auto_flow": null,
            "grid_auto_rows": null,
            "grid_column": null,
            "grid_gap": null,
            "grid_row": null,
            "grid_template_areas": null,
            "grid_template_columns": null,
            "grid_template_rows": null,
            "height": null,
            "justify_content": null,
            "justify_items": null,
            "left": null,
            "margin": null,
            "max_height": null,
            "max_width": null,
            "min_height": null,
            "min_width": null,
            "object_fit": null,
            "object_position": null,
            "order": null,
            "overflow": null,
            "overflow_x": null,
            "overflow_y": null,
            "padding": null,
            "right": null,
            "top": null,
            "visibility": null,
            "width": null
          }
        },
        "d1b13bb586b148edb622f77fcbdc1cf0": {
          "model_module": "@jupyter-widgets/base",
          "model_name": "LayoutModel",
          "model_module_version": "1.2.0",
          "state": {
            "_model_module": "@jupyter-widgets/base",
            "_model_module_version": "1.2.0",
            "_model_name": "LayoutModel",
            "_view_count": null,
            "_view_module": "@jupyter-widgets/base",
            "_view_module_version": "1.2.0",
            "_view_name": "LayoutView",
            "align_content": null,
            "align_items": null,
            "align_self": null,
            "border": null,
            "bottom": null,
            "display": null,
            "flex": null,
            "flex_flow": null,
            "grid_area": null,
            "grid_auto_columns": null,
            "grid_auto_flow": null,
            "grid_auto_rows": null,
            "grid_column": null,
            "grid_gap": null,
            "grid_row": null,
            "grid_template_areas": null,
            "grid_template_columns": null,
            "grid_template_rows": null,
            "height": null,
            "justify_content": null,
            "justify_items": null,
            "left": null,
            "margin": null,
            "max_height": null,
            "max_width": null,
            "min_height": null,
            "min_width": null,
            "object_fit": null,
            "object_position": null,
            "order": null,
            "overflow": null,
            "overflow_x": null,
            "overflow_y": null,
            "padding": null,
            "right": null,
            "top": null,
            "visibility": null,
            "width": null
          }
        },
        "4eff601398c64ac3846424c0450c5b08": {
          "model_module": "@jupyter-widgets/controls",
          "model_name": "SliderStyleModel",
          "model_module_version": "1.5.0",
          "state": {
            "_model_module": "@jupyter-widgets/controls",
            "_model_module_version": "1.5.0",
            "_model_name": "SliderStyleModel",
            "_view_count": null,
            "_view_module": "@jupyter-widgets/base",
            "_view_module_version": "1.2.0",
            "_view_name": "StyleView",
            "description_width": "",
            "handle_color": null
          }
        },
        "8d218e46b7a94ddaa1e0e09fa786fde8": {
          "model_module": "@jupyter-widgets/base",
          "model_name": "LayoutModel",
          "model_module_version": "1.2.0",
          "state": {
            "_model_module": "@jupyter-widgets/base",
            "_model_module_version": "1.2.0",
            "_model_name": "LayoutModel",
            "_view_count": null,
            "_view_module": "@jupyter-widgets/base",
            "_view_module_version": "1.2.0",
            "_view_name": "LayoutView",
            "align_content": null,
            "align_items": null,
            "align_self": null,
            "border": null,
            "bottom": null,
            "display": null,
            "flex": null,
            "flex_flow": null,
            "grid_area": null,
            "grid_auto_columns": null,
            "grid_auto_flow": null,
            "grid_auto_rows": null,
            "grid_column": null,
            "grid_gap": null,
            "grid_row": null,
            "grid_template_areas": null,
            "grid_template_columns": null,
            "grid_template_rows": null,
            "height": null,
            "justify_content": null,
            "justify_items": null,
            "left": null,
            "margin": null,
            "max_height": null,
            "max_width": null,
            "min_height": null,
            "min_width": null,
            "object_fit": null,
            "object_position": null,
            "order": null,
            "overflow": null,
            "overflow_x": null,
            "overflow_y": null,
            "padding": null,
            "right": null,
            "top": null,
            "visibility": null,
            "width": null
          }
        },
        "7a7525952f1047629957a30b05079235": {
          "model_module": "@jupyter-widgets/controls",
          "model_name": "SliderStyleModel",
          "model_module_version": "1.5.0",
          "state": {
            "_model_module": "@jupyter-widgets/controls",
            "_model_module_version": "1.5.0",
            "_model_name": "SliderStyleModel",
            "_view_count": null,
            "_view_module": "@jupyter-widgets/base",
            "_view_module_version": "1.2.0",
            "_view_name": "StyleView",
            "description_width": "",
            "handle_color": null
          }
        },
        "1b33e93f4d714b5380e72e29e432cc17": {
          "model_module": "@jupyter-widgets/base",
          "model_name": "LayoutModel",
          "model_module_version": "1.2.0",
          "state": {
            "_model_module": "@jupyter-widgets/base",
            "_model_module_version": "1.2.0",
            "_model_name": "LayoutModel",
            "_view_count": null,
            "_view_module": "@jupyter-widgets/base",
            "_view_module_version": "1.2.0",
            "_view_name": "LayoutView",
            "align_content": null,
            "align_items": null,
            "align_self": null,
            "border": null,
            "bottom": null,
            "display": null,
            "flex": null,
            "flex_flow": null,
            "grid_area": null,
            "grid_auto_columns": null,
            "grid_auto_flow": null,
            "grid_auto_rows": null,
            "grid_column": null,
            "grid_gap": null,
            "grid_row": null,
            "grid_template_areas": null,
            "grid_template_columns": null,
            "grid_template_rows": null,
            "height": null,
            "justify_content": null,
            "justify_items": null,
            "left": null,
            "margin": null,
            "max_height": null,
            "max_width": null,
            "min_height": null,
            "min_width": null,
            "object_fit": null,
            "object_position": null,
            "order": null,
            "overflow": null,
            "overflow_x": null,
            "overflow_y": null,
            "padding": null,
            "right": null,
            "top": null,
            "visibility": null,
            "width": null
          }
        },
        "f9094253c95a466b9cd2fc6ce2099d93": {
          "model_module": "@jupyter-widgets/controls",
          "model_name": "SliderStyleModel",
          "model_module_version": "1.5.0",
          "state": {
            "_model_module": "@jupyter-widgets/controls",
            "_model_module_version": "1.5.0",
            "_model_name": "SliderStyleModel",
            "_view_count": null,
            "_view_module": "@jupyter-widgets/base",
            "_view_module_version": "1.2.0",
            "_view_name": "StyleView",
            "description_width": "",
            "handle_color": null
          }
        },
        "367a2af0f6824d3f8aafcd4b386271f6": {
          "model_module": "@jupyter-widgets/base",
          "model_name": "LayoutModel",
          "model_module_version": "1.2.0",
          "state": {
            "_model_module": "@jupyter-widgets/base",
            "_model_module_version": "1.2.0",
            "_model_name": "LayoutModel",
            "_view_count": null,
            "_view_module": "@jupyter-widgets/base",
            "_view_module_version": "1.2.0",
            "_view_name": "LayoutView",
            "align_content": null,
            "align_items": null,
            "align_self": null,
            "border": null,
            "bottom": null,
            "display": null,
            "flex": null,
            "flex_flow": null,
            "grid_area": null,
            "grid_auto_columns": null,
            "grid_auto_flow": null,
            "grid_auto_rows": null,
            "grid_column": null,
            "grid_gap": null,
            "grid_row": null,
            "grid_template_areas": null,
            "grid_template_columns": null,
            "grid_template_rows": null,
            "height": null,
            "justify_content": null,
            "justify_items": null,
            "left": null,
            "margin": null,
            "max_height": null,
            "max_width": null,
            "min_height": null,
            "min_width": null,
            "object_fit": null,
            "object_position": null,
            "order": null,
            "overflow": null,
            "overflow_x": null,
            "overflow_y": null,
            "padding": null,
            "right": null,
            "top": null,
            "visibility": null,
            "width": null
          }
        },
        "c376e9000815420a8857dc0448cf138c": {
          "model_module": "@jupyter-widgets/controls",
          "model_name": "SliderStyleModel",
          "model_module_version": "1.5.0",
          "state": {
            "_model_module": "@jupyter-widgets/controls",
            "_model_module_version": "1.5.0",
            "_model_name": "SliderStyleModel",
            "_view_count": null,
            "_view_module": "@jupyter-widgets/base",
            "_view_module_version": "1.2.0",
            "_view_name": "StyleView",
            "description_width": "",
            "handle_color": null
          }
        },
        "31bb6a6714bd4107929f9ff60ae25309": {
          "model_module": "@jupyter-widgets/base",
          "model_name": "LayoutModel",
          "model_module_version": "1.2.0",
          "state": {
            "_model_module": "@jupyter-widgets/base",
            "_model_module_version": "1.2.0",
            "_model_name": "LayoutModel",
            "_view_count": null,
            "_view_module": "@jupyter-widgets/base",
            "_view_module_version": "1.2.0",
            "_view_name": "LayoutView",
            "align_content": null,
            "align_items": null,
            "align_self": null,
            "border": null,
            "bottom": null,
            "display": null,
            "flex": null,
            "flex_flow": null,
            "grid_area": null,
            "grid_auto_columns": null,
            "grid_auto_flow": null,
            "grid_auto_rows": null,
            "grid_column": null,
            "grid_gap": null,
            "grid_row": null,
            "grid_template_areas": null,
            "grid_template_columns": null,
            "grid_template_rows": null,
            "height": null,
            "justify_content": null,
            "justify_items": null,
            "left": null,
            "margin": null,
            "max_height": null,
            "max_width": null,
            "min_height": null,
            "min_width": null,
            "object_fit": null,
            "object_position": null,
            "order": null,
            "overflow": null,
            "overflow_x": null,
            "overflow_y": null,
            "padding": null,
            "right": null,
            "top": null,
            "visibility": null,
            "width": null
          }
        },
        "f790c74b95a945c38c73d4a4e479bd46": {
          "model_module": "@jupyter-widgets/controls",
          "model_name": "SliderStyleModel",
          "model_module_version": "1.5.0",
          "state": {
            "_model_module": "@jupyter-widgets/controls",
            "_model_module_version": "1.5.0",
            "_model_name": "SliderStyleModel",
            "_view_count": null,
            "_view_module": "@jupyter-widgets/base",
            "_view_module_version": "1.2.0",
            "_view_name": "StyleView",
            "description_width": "",
            "handle_color": null
          }
        },
        "17249eeefdbf402cb66ad380a06aae40": {
          "model_module": "@jupyter-widgets/base",
          "model_name": "LayoutModel",
          "model_module_version": "1.2.0",
          "state": {
            "_model_module": "@jupyter-widgets/base",
            "_model_module_version": "1.2.0",
            "_model_name": "LayoutModel",
            "_view_count": null,
            "_view_module": "@jupyter-widgets/base",
            "_view_module_version": "1.2.0",
            "_view_name": "LayoutView",
            "align_content": null,
            "align_items": null,
            "align_self": null,
            "border": null,
            "bottom": null,
            "display": null,
            "flex": null,
            "flex_flow": null,
            "grid_area": null,
            "grid_auto_columns": null,
            "grid_auto_flow": null,
            "grid_auto_rows": null,
            "grid_column": null,
            "grid_gap": null,
            "grid_row": null,
            "grid_template_areas": null,
            "grid_template_columns": null,
            "grid_template_rows": null,
            "height": null,
            "justify_content": null,
            "justify_items": null,
            "left": null,
            "margin": null,
            "max_height": null,
            "max_width": null,
            "min_height": null,
            "min_width": null,
            "object_fit": null,
            "object_position": null,
            "order": null,
            "overflow": null,
            "overflow_x": null,
            "overflow_y": null,
            "padding": null,
            "right": null,
            "top": null,
            "visibility": null,
            "width": null
          }
        },
        "03c060fdc16a4ffdb5915d9163648535": {
          "model_module": "@jupyter-widgets/controls",
          "model_name": "SliderStyleModel",
          "model_module_version": "1.5.0",
          "state": {
            "_model_module": "@jupyter-widgets/controls",
            "_model_module_version": "1.5.0",
            "_model_name": "SliderStyleModel",
            "_view_count": null,
            "_view_module": "@jupyter-widgets/base",
            "_view_module_version": "1.2.0",
            "_view_name": "StyleView",
            "description_width": "",
            "handle_color": null
          }
        },
        "f0b883d448c64194865d685074c9fca4": {
          "model_module": "@jupyter-widgets/base",
          "model_name": "LayoutModel",
          "model_module_version": "1.2.0",
          "state": {
            "_model_module": "@jupyter-widgets/base",
            "_model_module_version": "1.2.0",
            "_model_name": "LayoutModel",
            "_view_count": null,
            "_view_module": "@jupyter-widgets/base",
            "_view_module_version": "1.2.0",
            "_view_name": "LayoutView",
            "align_content": null,
            "align_items": null,
            "align_self": null,
            "border": null,
            "bottom": null,
            "display": null,
            "flex": null,
            "flex_flow": null,
            "grid_area": null,
            "grid_auto_columns": null,
            "grid_auto_flow": null,
            "grid_auto_rows": null,
            "grid_column": null,
            "grid_gap": null,
            "grid_row": null,
            "grid_template_areas": null,
            "grid_template_columns": null,
            "grid_template_rows": null,
            "height": null,
            "justify_content": null,
            "justify_items": null,
            "left": null,
            "margin": null,
            "max_height": null,
            "max_width": null,
            "min_height": null,
            "min_width": null,
            "object_fit": null,
            "object_position": null,
            "order": null,
            "overflow": null,
            "overflow_x": null,
            "overflow_y": null,
            "padding": null,
            "right": null,
            "top": null,
            "visibility": null,
            "width": null
          }
        },
        "be89a2939c144d8c8bebb3f6e780c08c": {
          "model_module": "@jupyter-widgets/controls",
          "model_name": "SliderStyleModel",
          "model_module_version": "1.5.0",
          "state": {
            "_model_module": "@jupyter-widgets/controls",
            "_model_module_version": "1.5.0",
            "_model_name": "SliderStyleModel",
            "_view_count": null,
            "_view_module": "@jupyter-widgets/base",
            "_view_module_version": "1.2.0",
            "_view_name": "StyleView",
            "description_width": "",
            "handle_color": null
          }
        },
        "5d096a1c87d741f88e541658291af63d": {
          "model_module": "@jupyter-widgets/base",
          "model_name": "LayoutModel",
          "model_module_version": "1.2.0",
          "state": {
            "_model_module": "@jupyter-widgets/base",
            "_model_module_version": "1.2.0",
            "_model_name": "LayoutModel",
            "_view_count": null,
            "_view_module": "@jupyter-widgets/base",
            "_view_module_version": "1.2.0",
            "_view_name": "LayoutView",
            "align_content": null,
            "align_items": null,
            "align_self": null,
            "border": null,
            "bottom": null,
            "display": null,
            "flex": null,
            "flex_flow": null,
            "grid_area": null,
            "grid_auto_columns": null,
            "grid_auto_flow": null,
            "grid_auto_rows": null,
            "grid_column": null,
            "grid_gap": null,
            "grid_row": null,
            "grid_template_areas": null,
            "grid_template_columns": null,
            "grid_template_rows": null,
            "height": null,
            "justify_content": null,
            "justify_items": null,
            "left": null,
            "margin": null,
            "max_height": null,
            "max_width": null,
            "min_height": null,
            "min_width": null,
            "object_fit": null,
            "object_position": null,
            "order": null,
            "overflow": null,
            "overflow_x": null,
            "overflow_y": null,
            "padding": null,
            "right": null,
            "top": null,
            "visibility": null,
            "width": null
          }
        },
        "d5c56e409fc0450880f5a10476f30a32": {
          "model_module": "@jupyter-widgets/controls",
          "model_name": "TabModel",
          "model_module_version": "1.5.0",
          "state": {
            "_dom_classes": [],
            "_model_module": "@jupyter-widgets/controls",
            "_model_module_version": "1.5.0",
            "_model_name": "TabModel",
            "_titles": {
              "0": "Youtube",
              "1": "Bilibili"
            },
            "_view_count": null,
            "_view_module": "@jupyter-widgets/controls",
            "_view_module_version": "1.5.0",
            "_view_name": "TabView",
            "box_style": "",
            "children": [
              "IPY_MODEL_00c7233db73445949a09843a3ce78ebc",
              "IPY_MODEL_ea820c5cb6ef4314aca3a00e4803266e"
            ],
            "layout": "IPY_MODEL_4acce607a57c41e68715dba484fd8073",
            "selected_index": 0
          }
        },
        "00c7233db73445949a09843a3ce78ebc": {
          "model_module": "@jupyter-widgets/output",
          "model_name": "OutputModel",
          "model_module_version": "1.0.0",
          "state": {
            "_dom_classes": [],
            "_model_module": "@jupyter-widgets/output",
            "_model_module_version": "1.0.0",
            "_model_name": "OutputModel",
            "_view_count": null,
            "_view_module": "@jupyter-widgets/output",
            "_view_module_version": "1.0.0",
            "_view_name": "OutputView",
            "layout": "IPY_MODEL_89cb7fc32d2f42e28415f1426795c191",
            "msg_id": "",
            "outputs": [
              {
                "output_type": "stream",
                "name": "stdout",
                "text": [
                  "Video available at https://youtube.com/watch?v=uW2HDk_4-wk\n"
                ]
              },
              {
                "output_type": "display_data",
                "data": {
                  "text/plain": "<IPython.lib.display.YouTubeVideo at 0x7f3a49c2c3d0>",
                  "text/html": "\n        <iframe\n            width=\"854\"\n            height=\"480\"\n            src=\"https://www.youtube.com/embed/uW2HDk_4-wk?fs=1&rel=0\"\n            frameborder=\"0\"\n            allowfullscreen\n        ></iframe>\n        ",
                  "image/jpeg": "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\n"
                },
                "metadata": {}
              }
            ]
          }
        },
        "ea820c5cb6ef4314aca3a00e4803266e": {
          "model_module": "@jupyter-widgets/output",
          "model_name": "OutputModel",
          "model_module_version": "1.0.0",
          "state": {
            "_dom_classes": [],
            "_model_module": "@jupyter-widgets/output",
            "_model_module_version": "1.0.0",
            "_model_name": "OutputModel",
            "_view_count": null,
            "_view_module": "@jupyter-widgets/output",
            "_view_module_version": "1.0.0",
            "_view_name": "OutputView",
            "layout": "IPY_MODEL_8d558f1bc16b4d7296794b175ef07653",
            "msg_id": "",
            "outputs": [
              {
                "output_type": "stream",
                "name": "stdout",
                "text": [
                  "Video available at https://www.bilibili.com/video/BV1w54y1S7Eb\n"
                ]
              },
              {
                "output_type": "display_data",
                "data": {
                  "text/plain": "<__main__.BiliVideo at 0x7f3a49c2c460>",
                  "text/html": "\n        <iframe\n            width=\"854\"\n            height=\"480\"\n            src=\"https://player.bilibili.com/player.html?bvid=BV1w54y1S7Eb&page=1?fs=1\"\n            frameborder=\"0\"\n            allowfullscreen\n        ></iframe>\n        "
                },
                "metadata": {}
              }
            ]
          }
        },
        "4acce607a57c41e68715dba484fd8073": {
          "model_module": "@jupyter-widgets/base",
          "model_name": "LayoutModel",
          "model_module_version": "1.2.0",
          "state": {
            "_model_module": "@jupyter-widgets/base",
            "_model_module_version": "1.2.0",
            "_model_name": "LayoutModel",
            "_view_count": null,
            "_view_module": "@jupyter-widgets/base",
            "_view_module_version": "1.2.0",
            "_view_name": "LayoutView",
            "align_content": null,
            "align_items": null,
            "align_self": null,
            "border": null,
            "bottom": null,
            "display": null,
            "flex": null,
            "flex_flow": null,
            "grid_area": null,
            "grid_auto_columns": null,
            "grid_auto_flow": null,
            "grid_auto_rows": null,
            "grid_column": null,
            "grid_gap": null,
            "grid_row": null,
            "grid_template_areas": null,
            "grid_template_columns": null,
            "grid_template_rows": null,
            "height": null,
            "justify_content": null,
            "justify_items": null,
            "left": null,
            "margin": null,
            "max_height": null,
            "max_width": null,
            "min_height": null,
            "min_width": null,
            "object_fit": null,
            "object_position": null,
            "order": null,
            "overflow": null,
            "overflow_x": null,
            "overflow_y": null,
            "padding": null,
            "right": null,
            "top": null,
            "visibility": null,
            "width": null
          }
        },
        "89cb7fc32d2f42e28415f1426795c191": {
          "model_module": "@jupyter-widgets/base",
          "model_name": "LayoutModel",
          "model_module_version": "1.2.0",
          "state": {
            "_model_module": "@jupyter-widgets/base",
            "_model_module_version": "1.2.0",
            "_model_name": "LayoutModel",
            "_view_count": null,
            "_view_module": "@jupyter-widgets/base",
            "_view_module_version": "1.2.0",
            "_view_name": "LayoutView",
            "align_content": null,
            "align_items": null,
            "align_self": null,
            "border": null,
            "bottom": null,
            "display": null,
            "flex": null,
            "flex_flow": null,
            "grid_area": null,
            "grid_auto_columns": null,
            "grid_auto_flow": null,
            "grid_auto_rows": null,
            "grid_column": null,
            "grid_gap": null,
            "grid_row": null,
            "grid_template_areas": null,
            "grid_template_columns": null,
            "grid_template_rows": null,
            "height": null,
            "justify_content": null,
            "justify_items": null,
            "left": null,
            "margin": null,
            "max_height": null,
            "max_width": null,
            "min_height": null,
            "min_width": null,
            "object_fit": null,
            "object_position": null,
            "order": null,
            "overflow": null,
            "overflow_x": null,
            "overflow_y": null,
            "padding": null,
            "right": null,
            "top": null,
            "visibility": null,
            "width": null
          }
        },
        "8d558f1bc16b4d7296794b175ef07653": {
          "model_module": "@jupyter-widgets/base",
          "model_name": "LayoutModel",
          "model_module_version": "1.2.0",
          "state": {
            "_model_module": "@jupyter-widgets/base",
            "_model_module_version": "1.2.0",
            "_model_name": "LayoutModel",
            "_view_count": null,
            "_view_module": "@jupyter-widgets/base",
            "_view_module_version": "1.2.0",
            "_view_name": "LayoutView",
            "align_content": null,
            "align_items": null,
            "align_self": null,
            "border": null,
            "bottom": null,
            "display": null,
            "flex": null,
            "flex_flow": null,
            "grid_area": null,
            "grid_auto_columns": null,
            "grid_auto_flow": null,
            "grid_auto_rows": null,
            "grid_column": null,
            "grid_gap": null,
            "grid_row": null,
            "grid_template_areas": null,
            "grid_template_columns": null,
            "grid_template_rows": null,
            "height": null,
            "justify_content": null,
            "justify_items": null,
            "left": null,
            "margin": null,
            "max_height": null,
            "max_width": null,
            "min_height": null,
            "min_width": null,
            "object_fit": null,
            "object_position": null,
            "order": null,
            "overflow": null,
            "overflow_x": null,
            "overflow_y": null,
            "padding": null,
            "right": null,
            "top": null,
            "visibility": null,
            "width": null
          }
        }
      }
    }
  },
  "nbformat": 4,
  "nbformat_minor": 0
}